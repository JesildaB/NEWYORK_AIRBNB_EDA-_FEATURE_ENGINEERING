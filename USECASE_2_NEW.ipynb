{
 "cells": [
  {
   "cell_type": "markdown",
   "id": "aea74f3d",
   "metadata": {},
   "source": [
    "AIRBNB DATA ANALYSIS AND FEATURE ENGINEERING\n",
    "\n",
    "This script performs comprehensive exploratory data analysis (EDA) and feature engineering\n",
    "on an Airbnb dataset. It includes data loading, cleaning, visualization, and preparation\n",
    "for machine learning models.\n"
   ]
  },
  {
   "cell_type": "markdown",
   "id": "5867d95b",
   "metadata": {},
   "source": [
    "LIBRARY IMPORTS"
   ]
  },
  {
   "cell_type": "code",
   "execution_count": 1,
   "id": "b1a99a96",
   "metadata": {},
   "outputs": [],
   "source": [
    "import pandas as pd\n",
    "import numpy as np\n",
    "import matplotlib.pyplot as plt \n",
    "import seaborn as sns\n",
    "\n",
    "%matplotlib inline"
   ]
  },
  {
   "cell_type": "markdown",
   "id": "c6541552",
   "metadata": {},
   "source": [
    "DATA LOADING AND INITIAL EXPLORATION\n"
   ]
  },
  {
   "cell_type": "code",
   "execution_count": 2,
   "id": "f47bb3e2",
   "metadata": {},
   "outputs": [],
   "source": [
    "df=pd.read_csv(r\"C:\\ENDURE WORK\\EDA AND FEATURE ENGINEERING\\USECASE 2\\DATA\\datasets.csv\",encoding_errors='ignore')"
   ]
  },
  {
   "cell_type": "code",
   "execution_count": 3,
   "id": "3ab23790",
   "metadata": {},
   "outputs": [
    {
     "data": {
      "text/html": [
       "<div>\n",
       "<style scoped>\n",
       "    .dataframe tbody tr th:only-of-type {\n",
       "        vertical-align: middle;\n",
       "    }\n",
       "\n",
       "    .dataframe tbody tr th {\n",
       "        vertical-align: top;\n",
       "    }\n",
       "\n",
       "    .dataframe thead th {\n",
       "        text-align: right;\n",
       "    }\n",
       "</style>\n",
       "<table border=\"1\" class=\"dataframe\">\n",
       "  <thead>\n",
       "    <tr style=\"text-align: right;\">\n",
       "      <th></th>\n",
       "      <th>id</th>\n",
       "      <th>name</th>\n",
       "      <th>host_id</th>\n",
       "      <th>host_name</th>\n",
       "      <th>neighbourhood_group</th>\n",
       "      <th>neighbourhood</th>\n",
       "      <th>latitude</th>\n",
       "      <th>longitude</th>\n",
       "      <th>room_type</th>\n",
       "      <th>price</th>\n",
       "      <th>...</th>\n",
       "      <th>last_review</th>\n",
       "      <th>reviews_per_month</th>\n",
       "      <th>calculated_host_listings_count</th>\n",
       "      <th>availability_365</th>\n",
       "      <th>number_of_reviews_ltm</th>\n",
       "      <th>license</th>\n",
       "      <th>rating</th>\n",
       "      <th>bedrooms</th>\n",
       "      <th>beds</th>\n",
       "      <th>baths</th>\n",
       "    </tr>\n",
       "  </thead>\n",
       "  <tbody>\n",
       "    <tr>\n",
       "      <th>0</th>\n",
       "      <td>1.312228e+06</td>\n",
       "      <td>Rental unit in Brooklyn · ★5.0 · 1 bedroom</td>\n",
       "      <td>7130382</td>\n",
       "      <td>Walter</td>\n",
       "      <td>Brooklyn</td>\n",
       "      <td>Clinton Hill</td>\n",
       "      <td>40.683710</td>\n",
       "      <td>-73.964610</td>\n",
       "      <td>Private room</td>\n",
       "      <td>55.0</td>\n",
       "      <td>...</td>\n",
       "      <td>20/12/15</td>\n",
       "      <td>0.03</td>\n",
       "      <td>1.0</td>\n",
       "      <td>0.0</td>\n",
       "      <td>0.0</td>\n",
       "      <td>No License</td>\n",
       "      <td>5</td>\n",
       "      <td>1</td>\n",
       "      <td>1</td>\n",
       "      <td>Not specified</td>\n",
       "    </tr>\n",
       "    <tr>\n",
       "      <th>1</th>\n",
       "      <td>4.527754e+07</td>\n",
       "      <td>Rental unit in New York · ★4.67 · 2 bedrooms ·...</td>\n",
       "      <td>51501835</td>\n",
       "      <td>Jeniffer</td>\n",
       "      <td>Manhattan</td>\n",
       "      <td>Hell's Kitchen</td>\n",
       "      <td>40.766610</td>\n",
       "      <td>-73.988100</td>\n",
       "      <td>Entire home/apt</td>\n",
       "      <td>144.0</td>\n",
       "      <td>...</td>\n",
       "      <td>01/05/23</td>\n",
       "      <td>0.24</td>\n",
       "      <td>139.0</td>\n",
       "      <td>364.0</td>\n",
       "      <td>2.0</td>\n",
       "      <td>No License</td>\n",
       "      <td>4.67</td>\n",
       "      <td>2</td>\n",
       "      <td>1</td>\n",
       "      <td>1</td>\n",
       "    </tr>\n",
       "    <tr>\n",
       "      <th>2</th>\n",
       "      <td>9.710000e+17</td>\n",
       "      <td>Rental unit in New York · ★4.17 · 1 bedroom · ...</td>\n",
       "      <td>528871354</td>\n",
       "      <td>Joshua</td>\n",
       "      <td>Manhattan</td>\n",
       "      <td>Chelsea</td>\n",
       "      <td>40.750764</td>\n",
       "      <td>-73.994605</td>\n",
       "      <td>Entire home/apt</td>\n",
       "      <td>187.0</td>\n",
       "      <td>...</td>\n",
       "      <td>18/12/23</td>\n",
       "      <td>1.67</td>\n",
       "      <td>1.0</td>\n",
       "      <td>343.0</td>\n",
       "      <td>6.0</td>\n",
       "      <td>Exempt</td>\n",
       "      <td>4.17</td>\n",
       "      <td>1</td>\n",
       "      <td>2</td>\n",
       "      <td>1</td>\n",
       "    </tr>\n",
       "    <tr>\n",
       "      <th>3</th>\n",
       "      <td>3.857863e+06</td>\n",
       "      <td>Rental unit in New York · ★4.64 · 1 bedroom · ...</td>\n",
       "      <td>19902271</td>\n",
       "      <td>John And Catherine</td>\n",
       "      <td>Manhattan</td>\n",
       "      <td>Washington Heights</td>\n",
       "      <td>40.835600</td>\n",
       "      <td>-73.942500</td>\n",
       "      <td>Private room</td>\n",
       "      <td>120.0</td>\n",
       "      <td>...</td>\n",
       "      <td>17/09/23</td>\n",
       "      <td>1.38</td>\n",
       "      <td>2.0</td>\n",
       "      <td>363.0</td>\n",
       "      <td>12.0</td>\n",
       "      <td>No License</td>\n",
       "      <td>4.64</td>\n",
       "      <td>1</td>\n",
       "      <td>1</td>\n",
       "      <td>1</td>\n",
       "    </tr>\n",
       "    <tr>\n",
       "      <th>4</th>\n",
       "      <td>4.089661e+07</td>\n",
       "      <td>Condo in New York · ★4.91 · Studio · 1 bed · 1...</td>\n",
       "      <td>61391963</td>\n",
       "      <td>Stay With Vibe</td>\n",
       "      <td>Manhattan</td>\n",
       "      <td>Murray Hill</td>\n",
       "      <td>40.751120</td>\n",
       "      <td>-73.978600</td>\n",
       "      <td>Entire home/apt</td>\n",
       "      <td>85.0</td>\n",
       "      <td>...</td>\n",
       "      <td>03/12/23</td>\n",
       "      <td>0.24</td>\n",
       "      <td>133.0</td>\n",
       "      <td>335.0</td>\n",
       "      <td>3.0</td>\n",
       "      <td>No License</td>\n",
       "      <td>4.91</td>\n",
       "      <td>Studio</td>\n",
       "      <td>1</td>\n",
       "      <td>1</td>\n",
       "    </tr>\n",
       "  </tbody>\n",
       "</table>\n",
       "<p>5 rows × 22 columns</p>\n",
       "</div>"
      ],
      "text/plain": [
       "             id                                               name    host_id  \\\n",
       "0  1.312228e+06         Rental unit in Brooklyn · ★5.0 · 1 bedroom    7130382   \n",
       "1  4.527754e+07  Rental unit in New York · ★4.67 · 2 bedrooms ·...   51501835   \n",
       "2  9.710000e+17  Rental unit in New York · ★4.17 · 1 bedroom · ...  528871354   \n",
       "3  3.857863e+06  Rental unit in New York · ★4.64 · 1 bedroom · ...   19902271   \n",
       "4  4.089661e+07  Condo in New York · ★4.91 · Studio · 1 bed · 1...   61391963   \n",
       "\n",
       "            host_name neighbourhood_group       neighbourhood   latitude  \\\n",
       "0              Walter            Brooklyn        Clinton Hill  40.683710   \n",
       "1            Jeniffer           Manhattan      Hell's Kitchen  40.766610   \n",
       "2              Joshua           Manhattan             Chelsea  40.750764   \n",
       "3  John And Catherine           Manhattan  Washington Heights  40.835600   \n",
       "4      Stay With Vibe           Manhattan         Murray Hill  40.751120   \n",
       "\n",
       "   longitude        room_type  price  ...  last_review  reviews_per_month  \\\n",
       "0 -73.964610     Private room   55.0  ...     20/12/15               0.03   \n",
       "1 -73.988100  Entire home/apt  144.0  ...     01/05/23               0.24   \n",
       "2 -73.994605  Entire home/apt  187.0  ...     18/12/23               1.67   \n",
       "3 -73.942500     Private room  120.0  ...     17/09/23               1.38   \n",
       "4 -73.978600  Entire home/apt   85.0  ...     03/12/23               0.24   \n",
       "\n",
       "  calculated_host_listings_count  availability_365  number_of_reviews_ltm  \\\n",
       "0                            1.0               0.0                    0.0   \n",
       "1                          139.0             364.0                    2.0   \n",
       "2                            1.0             343.0                    6.0   \n",
       "3                            2.0             363.0                   12.0   \n",
       "4                          133.0             335.0                    3.0   \n",
       "\n",
       "      license  rating bedrooms beds          baths  \n",
       "0  No License       5        1    1  Not specified  \n",
       "1  No License    4.67        2    1              1  \n",
       "2      Exempt    4.17        1    2              1  \n",
       "3  No License    4.64        1    1              1  \n",
       "4  No License    4.91   Studio    1              1  \n",
       "\n",
       "[5 rows x 22 columns]"
      ]
     },
     "execution_count": 3,
     "metadata": {},
     "output_type": "execute_result"
    }
   ],
   "source": [
    "df.head()"
   ]
  },
  {
   "cell_type": "code",
   "execution_count": 4,
   "id": "603cf92f",
   "metadata": {},
   "outputs": [
    {
     "data": {
      "text/html": [
       "<div>\n",
       "<style scoped>\n",
       "    .dataframe tbody tr th:only-of-type {\n",
       "        vertical-align: middle;\n",
       "    }\n",
       "\n",
       "    .dataframe tbody tr th {\n",
       "        vertical-align: top;\n",
       "    }\n",
       "\n",
       "    .dataframe thead th {\n",
       "        text-align: right;\n",
       "    }\n",
       "</style>\n",
       "<table border=\"1\" class=\"dataframe\">\n",
       "  <thead>\n",
       "    <tr style=\"text-align: right;\">\n",
       "      <th></th>\n",
       "      <th>id</th>\n",
       "      <th>name</th>\n",
       "      <th>host_id</th>\n",
       "      <th>host_name</th>\n",
       "      <th>neighbourhood_group</th>\n",
       "      <th>neighbourhood</th>\n",
       "      <th>latitude</th>\n",
       "      <th>longitude</th>\n",
       "      <th>room_type</th>\n",
       "      <th>price</th>\n",
       "      <th>...</th>\n",
       "      <th>last_review</th>\n",
       "      <th>reviews_per_month</th>\n",
       "      <th>calculated_host_listings_count</th>\n",
       "      <th>availability_365</th>\n",
       "      <th>number_of_reviews_ltm</th>\n",
       "      <th>license</th>\n",
       "      <th>rating</th>\n",
       "      <th>bedrooms</th>\n",
       "      <th>beds</th>\n",
       "      <th>baths</th>\n",
       "    </tr>\n",
       "  </thead>\n",
       "  <tbody>\n",
       "    <tr>\n",
       "      <th>20765</th>\n",
       "      <td>2.473690e+07</td>\n",
       "      <td>Rental unit in New York · ★4.75 · 1 bedroom · ...</td>\n",
       "      <td>186680487</td>\n",
       "      <td>Henry D</td>\n",
       "      <td>Manhattan</td>\n",
       "      <td>Lower East Side</td>\n",
       "      <td>40.711380</td>\n",
       "      <td>-73.991560</td>\n",
       "      <td>Private room</td>\n",
       "      <td>45.0</td>\n",
       "      <td>...</td>\n",
       "      <td>29/09/23</td>\n",
       "      <td>1.81</td>\n",
       "      <td>1.0</td>\n",
       "      <td>157.0</td>\n",
       "      <td>12.0</td>\n",
       "      <td>No License</td>\n",
       "      <td>4.75</td>\n",
       "      <td>1</td>\n",
       "      <td>1</td>\n",
       "      <td>1</td>\n",
       "    </tr>\n",
       "    <tr>\n",
       "      <th>20766</th>\n",
       "      <td>2.835711e+06</td>\n",
       "      <td>Rental unit in New York · ★4.46 · 1 bedroom · ...</td>\n",
       "      <td>3237504</td>\n",
       "      <td>Aspen</td>\n",
       "      <td>Manhattan</td>\n",
       "      <td>Greenwich Village</td>\n",
       "      <td>40.730580</td>\n",
       "      <td>-74.000700</td>\n",
       "      <td>Entire home/apt</td>\n",
       "      <td>105.0</td>\n",
       "      <td>...</td>\n",
       "      <td>01/07/23</td>\n",
       "      <td>0.48</td>\n",
       "      <td>1.0</td>\n",
       "      <td>0.0</td>\n",
       "      <td>1.0</td>\n",
       "      <td>No License</td>\n",
       "      <td>4.46</td>\n",
       "      <td>1</td>\n",
       "      <td>2</td>\n",
       "      <td>1</td>\n",
       "    </tr>\n",
       "    <tr>\n",
       "      <th>20767</th>\n",
       "      <td>5.182527e+07</td>\n",
       "      <td>Rental unit in New York · ★4.93 · 1 bedroom · ...</td>\n",
       "      <td>304317395</td>\n",
       "      <td>Jeff</td>\n",
       "      <td>Manhattan</td>\n",
       "      <td>Hell's Kitchen</td>\n",
       "      <td>40.757350</td>\n",
       "      <td>-73.993430</td>\n",
       "      <td>Entire home/apt</td>\n",
       "      <td>299.0</td>\n",
       "      <td>...</td>\n",
       "      <td>08/12/23</td>\n",
       "      <td>2.09</td>\n",
       "      <td>1.0</td>\n",
       "      <td>0.0</td>\n",
       "      <td>27.0</td>\n",
       "      <td>No License</td>\n",
       "      <td>4.93</td>\n",
       "      <td>1</td>\n",
       "      <td>1</td>\n",
       "      <td>1</td>\n",
       "    </tr>\n",
       "    <tr>\n",
       "      <th>20768</th>\n",
       "      <td>7.830000e+17</td>\n",
       "      <td>Rental unit in New York · ★5.0 · 1 bedroom · 1...</td>\n",
       "      <td>163083101</td>\n",
       "      <td>Marissa</td>\n",
       "      <td>Manhattan</td>\n",
       "      <td>Chinatown</td>\n",
       "      <td>40.713750</td>\n",
       "      <td>-73.991470</td>\n",
       "      <td>Entire home/apt</td>\n",
       "      <td>115.0</td>\n",
       "      <td>...</td>\n",
       "      <td>17/09/23</td>\n",
       "      <td>0.91</td>\n",
       "      <td>1.0</td>\n",
       "      <td>363.0</td>\n",
       "      <td>7.0</td>\n",
       "      <td>No License</td>\n",
       "      <td>5</td>\n",
       "      <td>1</td>\n",
       "      <td>1</td>\n",
       "      <td>1</td>\n",
       "    </tr>\n",
       "    <tr>\n",
       "      <th>20769</th>\n",
       "      <td>5.660000e+17</td>\n",
       "      <td>Rental unit in Queens · ★4.89 · 1 bedroom · 1 ...</td>\n",
       "      <td>93827372</td>\n",
       "      <td>Glenroy</td>\n",
       "      <td>Queens</td>\n",
       "      <td>Rosedale</td>\n",
       "      <td>40.658874</td>\n",
       "      <td>-73.728651</td>\n",
       "      <td>Private room</td>\n",
       "      <td>102.0</td>\n",
       "      <td>...</td>\n",
       "      <td>10/12/23</td>\n",
       "      <td>4.50</td>\n",
       "      <td>1.0</td>\n",
       "      <td>0.0</td>\n",
       "      <td>62.0</td>\n",
       "      <td>OSE-STRREG-0000513</td>\n",
       "      <td>4.89</td>\n",
       "      <td>1</td>\n",
       "      <td>1</td>\n",
       "      <td>1</td>\n",
       "    </tr>\n",
       "  </tbody>\n",
       "</table>\n",
       "<p>5 rows × 22 columns</p>\n",
       "</div>"
      ],
      "text/plain": [
       "                 id                                               name  \\\n",
       "20765  2.473690e+07  Rental unit in New York · ★4.75 · 1 bedroom · ...   \n",
       "20766  2.835711e+06  Rental unit in New York · ★4.46 · 1 bedroom · ...   \n",
       "20767  5.182527e+07  Rental unit in New York · ★4.93 · 1 bedroom · ...   \n",
       "20768  7.830000e+17  Rental unit in New York · ★5.0 · 1 bedroom · 1...   \n",
       "20769  5.660000e+17  Rental unit in Queens · ★4.89 · 1 bedroom · 1 ...   \n",
       "\n",
       "         host_id host_name neighbourhood_group      neighbourhood   latitude  \\\n",
       "20765  186680487   Henry D           Manhattan    Lower East Side  40.711380   \n",
       "20766    3237504     Aspen           Manhattan  Greenwich Village  40.730580   \n",
       "20767  304317395      Jeff           Manhattan     Hell's Kitchen  40.757350   \n",
       "20768  163083101   Marissa           Manhattan          Chinatown  40.713750   \n",
       "20769   93827372   Glenroy              Queens           Rosedale  40.658874   \n",
       "\n",
       "       longitude        room_type  price  ...  last_review  reviews_per_month  \\\n",
       "20765 -73.991560     Private room   45.0  ...     29/09/23               1.81   \n",
       "20766 -74.000700  Entire home/apt  105.0  ...     01/07/23               0.48   \n",
       "20767 -73.993430  Entire home/apt  299.0  ...     08/12/23               2.09   \n",
       "20768 -73.991470  Entire home/apt  115.0  ...     17/09/23               0.91   \n",
       "20769 -73.728651     Private room  102.0  ...     10/12/23               4.50   \n",
       "\n",
       "      calculated_host_listings_count  availability_365  number_of_reviews_ltm  \\\n",
       "20765                            1.0             157.0                   12.0   \n",
       "20766                            1.0               0.0                    1.0   \n",
       "20767                            1.0               0.0                   27.0   \n",
       "20768                            1.0             363.0                    7.0   \n",
       "20769                            1.0               0.0                   62.0   \n",
       "\n",
       "                  license  rating bedrooms beds baths  \n",
       "20765          No License    4.75        1    1     1  \n",
       "20766          No License    4.46        1    2     1  \n",
       "20767          No License    4.93        1    1     1  \n",
       "20768          No License       5        1    1     1  \n",
       "20769  OSE-STRREG-0000513    4.89        1    1     1  \n",
       "\n",
       "[5 rows x 22 columns]"
      ]
     },
     "execution_count": 4,
     "metadata": {},
     "output_type": "execute_result"
    }
   ],
   "source": [
    "df.tail()"
   ]
  },
  {
   "cell_type": "markdown",
   "id": "63216e06",
   "metadata": {},
   "source": [
    "DATASET DIMENSIONS AND BASIC INFO"
   ]
  },
  {
   "cell_type": "code",
   "execution_count": 95,
   "id": "b58f82af",
   "metadata": {},
   "outputs": [
    {
     "name": "stdout",
     "output_type": "stream",
     "text": [
      "The total size of the dataset is 456940\n",
      "The total number of rows in the dataset is 20770\n",
      "The total number of columns in the dataset is 22\n",
      "The total number of dimensions is 2\n"
     ]
    }
   ],
   "source": [
    "#Checking for total size ,shape and dimensions\n",
    "total_size=df.size\n",
    "print(f'The total size of the dataset is {total_size}')\n",
    "\n",
    "total_shape=df.shape\n",
    "print(f'The total number of rows in the dataset is {total_shape[0]}')\n",
    "print(f'The total number of columns in the dataset is {total_shape[1]}')\n",
    "\n",
    "\n",
    "dimensions=df.ndim\n",
    "print(f'The total number of dimensions is {dimensions}')\n"
   ]
  },
  {
   "cell_type": "code",
   "execution_count": 6,
   "id": "c03549b8",
   "metadata": {},
   "outputs": [
    {
     "name": "stdout",
     "output_type": "stream",
     "text": [
      "<class 'pandas.core.frame.DataFrame'>\n",
      "RangeIndex: 20770 entries, 0 to 20769\n",
      "Data columns (total 22 columns):\n",
      " #   Column                          Non-Null Count  Dtype  \n",
      "---  ------                          --------------  -----  \n",
      " 0   id                              20770 non-null  float64\n",
      " 1   name                            20770 non-null  object \n",
      " 2   host_id                         20770 non-null  int64  \n",
      " 3   host_name                       20770 non-null  object \n",
      " 4   neighbourhood_group             20770 non-null  object \n",
      " 5   neighbourhood                   20763 non-null  object \n",
      " 6   latitude                        20763 non-null  float64\n",
      " 7   longitude                       20763 non-null  float64\n",
      " 8   room_type                       20763 non-null  object \n",
      " 9   price                           20736 non-null  float64\n",
      " 10  minimum_nights                  20763 non-null  float64\n",
      " 11  number_of_reviews               20763 non-null  float64\n",
      " 12  last_review                     20763 non-null  object \n",
      " 13  reviews_per_month               20763 non-null  float64\n",
      " 14  calculated_host_listings_count  20763 non-null  float64\n",
      " 15  availability_365                20763 non-null  float64\n",
      " 16  number_of_reviews_ltm           20763 non-null  float64\n",
      " 17  license                         20770 non-null  object \n",
      " 18  rating                          20770 non-null  object \n",
      " 19  bedrooms                        20770 non-null  object \n",
      " 20  beds                            20770 non-null  int64  \n",
      " 21  baths                           20770 non-null  object \n",
      "dtypes: float64(10), int64(2), object(10)\n",
      "memory usage: 3.5+ MB\n"
     ]
    }
   ],
   "source": [
    "df.info()"
   ]
  },
  {
   "cell_type": "code",
   "execution_count": 7,
   "id": "6bcdcb22",
   "metadata": {},
   "outputs": [
    {
     "data": {
      "text/html": [
       "<div>\n",
       "<style scoped>\n",
       "    .dataframe tbody tr th:only-of-type {\n",
       "        vertical-align: middle;\n",
       "    }\n",
       "\n",
       "    .dataframe tbody tr th {\n",
       "        vertical-align: top;\n",
       "    }\n",
       "\n",
       "    .dataframe thead th {\n",
       "        text-align: right;\n",
       "    }\n",
       "</style>\n",
       "<table border=\"1\" class=\"dataframe\">\n",
       "  <thead>\n",
       "    <tr style=\"text-align: right;\">\n",
       "      <th></th>\n",
       "      <th>id</th>\n",
       "      <th>name</th>\n",
       "      <th>host_id</th>\n",
       "      <th>host_name</th>\n",
       "      <th>neighbourhood_group</th>\n",
       "      <th>neighbourhood</th>\n",
       "      <th>latitude</th>\n",
       "      <th>longitude</th>\n",
       "      <th>room_type</th>\n",
       "      <th>price</th>\n",
       "      <th>...</th>\n",
       "      <th>last_review</th>\n",
       "      <th>reviews_per_month</th>\n",
       "      <th>calculated_host_listings_count</th>\n",
       "      <th>availability_365</th>\n",
       "      <th>number_of_reviews_ltm</th>\n",
       "      <th>license</th>\n",
       "      <th>rating</th>\n",
       "      <th>bedrooms</th>\n",
       "      <th>beds</th>\n",
       "      <th>baths</th>\n",
       "    </tr>\n",
       "  </thead>\n",
       "  <tbody>\n",
       "    <tr>\n",
       "      <th>count</th>\n",
       "      <td>2.077000e+04</td>\n",
       "      <td>20770</td>\n",
       "      <td>2.077000e+04</td>\n",
       "      <td>20770</td>\n",
       "      <td>20770</td>\n",
       "      <td>20763</td>\n",
       "      <td>20763.000000</td>\n",
       "      <td>20763.000000</td>\n",
       "      <td>20763</td>\n",
       "      <td>20736.000000</td>\n",
       "      <td>...</td>\n",
       "      <td>20763</td>\n",
       "      <td>20763.000000</td>\n",
       "      <td>20763.000000</td>\n",
       "      <td>20763.000000</td>\n",
       "      <td>20763.000000</td>\n",
       "      <td>20770</td>\n",
       "      <td>20770</td>\n",
       "      <td>20770</td>\n",
       "      <td>20770.000000</td>\n",
       "      <td>20770</td>\n",
       "    </tr>\n",
       "    <tr>\n",
       "      <th>unique</th>\n",
       "      <td>NaN</td>\n",
       "      <td>9836</td>\n",
       "      <td>NaN</td>\n",
       "      <td>5815</td>\n",
       "      <td>5</td>\n",
       "      <td>221</td>\n",
       "      <td>NaN</td>\n",
       "      <td>NaN</td>\n",
       "      <td>4</td>\n",
       "      <td>NaN</td>\n",
       "      <td>...</td>\n",
       "      <td>1878</td>\n",
       "      <td>NaN</td>\n",
       "      <td>NaN</td>\n",
       "      <td>NaN</td>\n",
       "      <td>NaN</td>\n",
       "      <td>879</td>\n",
       "      <td>162</td>\n",
       "      <td>12</td>\n",
       "      <td>NaN</td>\n",
       "      <td>17</td>\n",
       "    </tr>\n",
       "    <tr>\n",
       "      <th>top</th>\n",
       "      <td>NaN</td>\n",
       "      <td>Rental unit in New York · 1 bedroom · 1 bed · ...</td>\n",
       "      <td>NaN</td>\n",
       "      <td>Jeniffer</td>\n",
       "      <td>Manhattan</td>\n",
       "      <td>Bedford-Stuyvesant</td>\n",
       "      <td>NaN</td>\n",
       "      <td>NaN</td>\n",
       "      <td>Entire home/apt</td>\n",
       "      <td>NaN</td>\n",
       "      <td>...</td>\n",
       "      <td>04/09/23</td>\n",
       "      <td>NaN</td>\n",
       "      <td>NaN</td>\n",
       "      <td>NaN</td>\n",
       "      <td>NaN</td>\n",
       "      <td>No License</td>\n",
       "      <td>No rating</td>\n",
       "      <td>1</td>\n",
       "      <td>NaN</td>\n",
       "      <td>1</td>\n",
       "    </tr>\n",
       "    <tr>\n",
       "      <th>freq</th>\n",
       "      <td>NaN</td>\n",
       "      <td>409</td>\n",
       "      <td>NaN</td>\n",
       "      <td>187</td>\n",
       "      <td>8050</td>\n",
       "      <td>1583</td>\n",
       "      <td>NaN</td>\n",
       "      <td>NaN</td>\n",
       "      <td>11555</td>\n",
       "      <td>NaN</td>\n",
       "      <td>...</td>\n",
       "      <td>326</td>\n",
       "      <td>NaN</td>\n",
       "      <td>NaN</td>\n",
       "      <td>NaN</td>\n",
       "      <td>NaN</td>\n",
       "      <td>17579</td>\n",
       "      <td>3595</td>\n",
       "      <td>13445</td>\n",
       "      <td>NaN</td>\n",
       "      <td>17026</td>\n",
       "    </tr>\n",
       "    <tr>\n",
       "      <th>mean</th>\n",
       "      <td>3.033858e+17</td>\n",
       "      <td>NaN</td>\n",
       "      <td>1.749049e+08</td>\n",
       "      <td>NaN</td>\n",
       "      <td>NaN</td>\n",
       "      <td>NaN</td>\n",
       "      <td>40.726821</td>\n",
       "      <td>-73.939179</td>\n",
       "      <td>NaN</td>\n",
       "      <td>187.714940</td>\n",
       "      <td>...</td>\n",
       "      <td>NaN</td>\n",
       "      <td>1.257589</td>\n",
       "      <td>18.866686</td>\n",
       "      <td>206.067957</td>\n",
       "      <td>10.848962</td>\n",
       "      <td>NaN</td>\n",
       "      <td>NaN</td>\n",
       "      <td>NaN</td>\n",
       "      <td>1.723592</td>\n",
       "      <td>NaN</td>\n",
       "    </tr>\n",
       "    <tr>\n",
       "      <th>std</th>\n",
       "      <td>3.901221e+17</td>\n",
       "      <td>NaN</td>\n",
       "      <td>1.725657e+08</td>\n",
       "      <td>NaN</td>\n",
       "      <td>NaN</td>\n",
       "      <td>NaN</td>\n",
       "      <td>0.060293</td>\n",
       "      <td>0.061403</td>\n",
       "      <td>NaN</td>\n",
       "      <td>1023.245124</td>\n",
       "      <td>...</td>\n",
       "      <td>NaN</td>\n",
       "      <td>1.904472</td>\n",
       "      <td>70.921443</td>\n",
       "      <td>135.077259</td>\n",
       "      <td>21.354876</td>\n",
       "      <td>NaN</td>\n",
       "      <td>NaN</td>\n",
       "      <td>NaN</td>\n",
       "      <td>1.211993</td>\n",
       "      <td>NaN</td>\n",
       "    </tr>\n",
       "    <tr>\n",
       "      <th>min</th>\n",
       "      <td>2.595000e+03</td>\n",
       "      <td>NaN</td>\n",
       "      <td>1.678000e+03</td>\n",
       "      <td>NaN</td>\n",
       "      <td>NaN</td>\n",
       "      <td>NaN</td>\n",
       "      <td>40.500314</td>\n",
       "      <td>-74.249840</td>\n",
       "      <td>NaN</td>\n",
       "      <td>10.000000</td>\n",
       "      <td>...</td>\n",
       "      <td>NaN</td>\n",
       "      <td>0.010000</td>\n",
       "      <td>1.000000</td>\n",
       "      <td>0.000000</td>\n",
       "      <td>0.000000</td>\n",
       "      <td>NaN</td>\n",
       "      <td>NaN</td>\n",
       "      <td>NaN</td>\n",
       "      <td>1.000000</td>\n",
       "      <td>NaN</td>\n",
       "    </tr>\n",
       "    <tr>\n",
       "      <th>25%</th>\n",
       "      <td>2.707260e+07</td>\n",
       "      <td>NaN</td>\n",
       "      <td>2.041184e+07</td>\n",
       "      <td>NaN</td>\n",
       "      <td>NaN</td>\n",
       "      <td>NaN</td>\n",
       "      <td>40.684159</td>\n",
       "      <td>-73.980755</td>\n",
       "      <td>NaN</td>\n",
       "      <td>80.000000</td>\n",
       "      <td>...</td>\n",
       "      <td>NaN</td>\n",
       "      <td>0.210000</td>\n",
       "      <td>1.000000</td>\n",
       "      <td>87.000000</td>\n",
       "      <td>1.000000</td>\n",
       "      <td>NaN</td>\n",
       "      <td>NaN</td>\n",
       "      <td>NaN</td>\n",
       "      <td>1.000000</td>\n",
       "      <td>NaN</td>\n",
       "    </tr>\n",
       "    <tr>\n",
       "      <th>50%</th>\n",
       "      <td>4.992852e+07</td>\n",
       "      <td>NaN</td>\n",
       "      <td>1.086990e+08</td>\n",
       "      <td>NaN</td>\n",
       "      <td>NaN</td>\n",
       "      <td>NaN</td>\n",
       "      <td>40.722890</td>\n",
       "      <td>-73.949597</td>\n",
       "      <td>NaN</td>\n",
       "      <td>125.000000</td>\n",
       "      <td>...</td>\n",
       "      <td>NaN</td>\n",
       "      <td>0.650000</td>\n",
       "      <td>2.000000</td>\n",
       "      <td>215.000000</td>\n",
       "      <td>3.000000</td>\n",
       "      <td>NaN</td>\n",
       "      <td>NaN</td>\n",
       "      <td>NaN</td>\n",
       "      <td>1.000000</td>\n",
       "      <td>NaN</td>\n",
       "    </tr>\n",
       "    <tr>\n",
       "      <th>75%</th>\n",
       "      <td>7.220000e+17</td>\n",
       "      <td>NaN</td>\n",
       "      <td>3.143997e+08</td>\n",
       "      <td>NaN</td>\n",
       "      <td>NaN</td>\n",
       "      <td>NaN</td>\n",
       "      <td>40.763106</td>\n",
       "      <td>-73.917475</td>\n",
       "      <td>NaN</td>\n",
       "      <td>199.000000</td>\n",
       "      <td>...</td>\n",
       "      <td>NaN</td>\n",
       "      <td>1.800000</td>\n",
       "      <td>5.000000</td>\n",
       "      <td>353.000000</td>\n",
       "      <td>15.000000</td>\n",
       "      <td>NaN</td>\n",
       "      <td>NaN</td>\n",
       "      <td>NaN</td>\n",
       "      <td>2.000000</td>\n",
       "      <td>NaN</td>\n",
       "    </tr>\n",
       "    <tr>\n",
       "      <th>max</th>\n",
       "      <td>1.050000e+18</td>\n",
       "      <td>NaN</td>\n",
       "      <td>5.504035e+08</td>\n",
       "      <td>NaN</td>\n",
       "      <td>NaN</td>\n",
       "      <td>NaN</td>\n",
       "      <td>40.911147</td>\n",
       "      <td>-73.713650</td>\n",
       "      <td>NaN</td>\n",
       "      <td>100000.000000</td>\n",
       "      <td>...</td>\n",
       "      <td>NaN</td>\n",
       "      <td>75.490000</td>\n",
       "      <td>713.000000</td>\n",
       "      <td>365.000000</td>\n",
       "      <td>1075.000000</td>\n",
       "      <td>NaN</td>\n",
       "      <td>NaN</td>\n",
       "      <td>NaN</td>\n",
       "      <td>42.000000</td>\n",
       "      <td>NaN</td>\n",
       "    </tr>\n",
       "  </tbody>\n",
       "</table>\n",
       "<p>11 rows × 22 columns</p>\n",
       "</div>"
      ],
      "text/plain": [
       "                  id                                               name  \\\n",
       "count   2.077000e+04                                              20770   \n",
       "unique           NaN                                               9836   \n",
       "top              NaN  Rental unit in New York · 1 bedroom · 1 bed · ...   \n",
       "freq             NaN                                                409   \n",
       "mean    3.033858e+17                                                NaN   \n",
       "std     3.901221e+17                                                NaN   \n",
       "min     2.595000e+03                                                NaN   \n",
       "25%     2.707260e+07                                                NaN   \n",
       "50%     4.992852e+07                                                NaN   \n",
       "75%     7.220000e+17                                                NaN   \n",
       "max     1.050000e+18                                                NaN   \n",
       "\n",
       "             host_id host_name neighbourhood_group       neighbourhood  \\\n",
       "count   2.077000e+04     20770               20770               20763   \n",
       "unique           NaN      5815                   5                 221   \n",
       "top              NaN  Jeniffer           Manhattan  Bedford-Stuyvesant   \n",
       "freq             NaN       187                8050                1583   \n",
       "mean    1.749049e+08       NaN                 NaN                 NaN   \n",
       "std     1.725657e+08       NaN                 NaN                 NaN   \n",
       "min     1.678000e+03       NaN                 NaN                 NaN   \n",
       "25%     2.041184e+07       NaN                 NaN                 NaN   \n",
       "50%     1.086990e+08       NaN                 NaN                 NaN   \n",
       "75%     3.143997e+08       NaN                 NaN                 NaN   \n",
       "max     5.504035e+08       NaN                 NaN                 NaN   \n",
       "\n",
       "            latitude     longitude        room_type          price  ...  \\\n",
       "count   20763.000000  20763.000000            20763   20736.000000  ...   \n",
       "unique           NaN           NaN                4            NaN  ...   \n",
       "top              NaN           NaN  Entire home/apt            NaN  ...   \n",
       "freq             NaN           NaN            11555            NaN  ...   \n",
       "mean       40.726821    -73.939179              NaN     187.714940  ...   \n",
       "std         0.060293      0.061403              NaN    1023.245124  ...   \n",
       "min        40.500314    -74.249840              NaN      10.000000  ...   \n",
       "25%        40.684159    -73.980755              NaN      80.000000  ...   \n",
       "50%        40.722890    -73.949597              NaN     125.000000  ...   \n",
       "75%        40.763106    -73.917475              NaN     199.000000  ...   \n",
       "max        40.911147    -73.713650              NaN  100000.000000  ...   \n",
       "\n",
       "        last_review  reviews_per_month calculated_host_listings_count  \\\n",
       "count         20763       20763.000000                   20763.000000   \n",
       "unique         1878                NaN                            NaN   \n",
       "top        04/09/23                NaN                            NaN   \n",
       "freq            326                NaN                            NaN   \n",
       "mean            NaN           1.257589                      18.866686   \n",
       "std             NaN           1.904472                      70.921443   \n",
       "min             NaN           0.010000                       1.000000   \n",
       "25%             NaN           0.210000                       1.000000   \n",
       "50%             NaN           0.650000                       2.000000   \n",
       "75%             NaN           1.800000                       5.000000   \n",
       "max             NaN          75.490000                     713.000000   \n",
       "\n",
       "        availability_365  number_of_reviews_ltm     license     rating  \\\n",
       "count       20763.000000           20763.000000       20770      20770   \n",
       "unique               NaN                    NaN         879        162   \n",
       "top                  NaN                    NaN  No License  No rating   \n",
       "freq                 NaN                    NaN       17579       3595   \n",
       "mean          206.067957              10.848962         NaN        NaN   \n",
       "std           135.077259              21.354876         NaN        NaN   \n",
       "min             0.000000               0.000000         NaN        NaN   \n",
       "25%            87.000000               1.000000         NaN        NaN   \n",
       "50%           215.000000               3.000000         NaN        NaN   \n",
       "75%           353.000000              15.000000         NaN        NaN   \n",
       "max           365.000000            1075.000000         NaN        NaN   \n",
       "\n",
       "       bedrooms          beds  baths  \n",
       "count     20770  20770.000000  20770  \n",
       "unique       12           NaN     17  \n",
       "top           1           NaN      1  \n",
       "freq      13445           NaN  17026  \n",
       "mean        NaN      1.723592    NaN  \n",
       "std         NaN      1.211993    NaN  \n",
       "min         NaN      1.000000    NaN  \n",
       "25%         NaN      1.000000    NaN  \n",
       "50%         NaN      1.000000    NaN  \n",
       "75%         NaN      2.000000    NaN  \n",
       "max         NaN     42.000000    NaN  \n",
       "\n",
       "[11 rows x 22 columns]"
      ]
     },
     "execution_count": 7,
     "metadata": {},
     "output_type": "execute_result"
    }
   ],
   "source": [
    "df.describe(include='all')"
   ]
  },
  {
   "cell_type": "markdown",
   "id": "57318027",
   "metadata": {},
   "source": [
    "UNIQUE VALUES ANALYSIS"
   ]
  },
  {
   "cell_type": "code",
   "execution_count": 8,
   "id": "ae0d0b84",
   "metadata": {},
   "outputs": [
    {
     "name": "stdout",
     "output_type": "stream",
     "text": [
      "id has 13203 unique values\n",
      "name has 9836 unique values\n",
      "host_id has 12449 unique values\n",
      "host_name has 5815 unique values\n",
      "neighbourhood_group has 5 unique values\n",
      "neighbourhood has 221 unique values\n",
      "latitude has 15375 unique values\n",
      "longitude has 14468 unique values\n",
      "room_type has 4 unique values\n",
      "price has 784 unique values\n",
      "minimum_nights has 69 unique values\n",
      "number_of_reviews has 469 unique values\n",
      "last_review has 1878 unique values\n",
      "reviews_per_month has 783 unique values\n",
      "calculated_host_listings_count has 68 unique values\n",
      "availability_365 has 366 unique values\n",
      "number_of_reviews_ltm has 153 unique values\n",
      "license has 879 unique values\n",
      "rating has 162 unique values\n",
      "bedrooms has 12 unique values\n",
      "beds has 17 unique values\n",
      "baths has 17 unique values\n"
     ]
    }
   ],
   "source": [
    "\n",
    "for col in df.columns:\n",
    "    uni=df[col].nunique()\n",
    "    print(f'{col} has {uni} unique values')"
   ]
  },
  {
   "cell_type": "markdown",
   "id": "1a7c5e31",
   "metadata": {},
   "source": [
    "DATA TYPE CONVERSION"
   ]
  },
  {
   "cell_type": "code",
   "execution_count": 9,
   "id": "85712b9b",
   "metadata": {},
   "outputs": [],
   "source": [
    "df['bedrooms'] = pd.to_numeric(df['bedrooms'], errors='coerce')"
   ]
  },
  {
   "cell_type": "code",
   "execution_count": 10,
   "id": "0cbbbfbd",
   "metadata": {},
   "outputs": [],
   "source": [
    "df['baths'] = pd.to_numeric(df['baths'], errors='coerce')\n"
   ]
  },
  {
   "cell_type": "code",
   "execution_count": 11,
   "id": "38e88f49",
   "metadata": {},
   "outputs": [],
   "source": [
    "df['rating'] = pd.to_numeric(df['rating'], errors='coerce')\n"
   ]
  },
  {
   "cell_type": "markdown",
   "id": "06b51561",
   "metadata": {},
   "source": [
    "NULL VALUES DETECTION"
   ]
  },
  {
   "cell_type": "code",
   "execution_count": 12,
   "id": "3201321c",
   "metadata": {},
   "outputs": [
    {
     "data": {
      "text/plain": [
       "Index(['neighbourhood', 'latitude', 'longitude', 'room_type', 'price',\n",
       "       'minimum_nights', 'number_of_reviews', 'last_review',\n",
       "       'reviews_per_month', 'calculated_host_listings_count',\n",
       "       'availability_365', 'number_of_reviews_ltm', 'rating', 'bedrooms',\n",
       "       'baths'],\n",
       "      dtype='object')"
      ]
     },
     "execution_count": 12,
     "metadata": {},
     "output_type": "execute_result"
    }
   ],
   "source": [
    "null_cols_names=df.columns[df.isnull().any()]\n",
    "null_cols_names"
   ]
  },
  {
   "cell_type": "markdown",
   "id": "65315727",
   "metadata": {},
   "source": [
    "DUPLICATE VALUES ANALYSIS"
   ]
  },
  {
   "cell_type": "code",
   "execution_count": null,
   "metadata": {},
   "outputs": [
    {
     "name": "stdout",
     "output_type": "stream",
     "text": [
      "Final dataset dimensions: (20770, 36)\n",
      "Total features created: 14 new features\n"
     ]
    }
   ],
   "source": [
    "print(f\"Final dataset dimensions: {new_encoded_bnb_data.shape}\")\n",
    "print(f\"Total features created: {new_encoded_bnb_data.shape[1] - df.shape[1]} new features\")\n"
   ]
  },
  {
   "cell_type": "code",
   "execution_count": 13,
   "id": "7f4829ef",
   "metadata": {},
   "outputs": [
    {
     "data": {
      "text/plain": [
       "np.int64(12)"
      ]
     },
     "execution_count": 13,
     "metadata": {},
     "output_type": "execute_result"
    }
   ],
   "source": [
    "total_duplicated_values=df.duplicated().sum()\n",
    "total_duplicated_values\n"
   ]
  },
  {
   "cell_type": "code",
   "execution_count": 14,
   "id": "d9f06c62",
   "metadata": {},
   "outputs": [
    {
     "data": {
      "text/html": [
       "<div>\n",
       "<style scoped>\n",
       "    .dataframe tbody tr th:only-of-type {\n",
       "        vertical-align: middle;\n",
       "    }\n",
       "\n",
       "    .dataframe tbody tr th {\n",
       "        vertical-align: top;\n",
       "    }\n",
       "\n",
       "    .dataframe thead th {\n",
       "        text-align: right;\n",
       "    }\n",
       "</style>\n",
       "<table border=\"1\" class=\"dataframe\">\n",
       "  <thead>\n",
       "    <tr style=\"text-align: right;\">\n",
       "      <th></th>\n",
       "      <th>id</th>\n",
       "      <th>name</th>\n",
       "      <th>host_id</th>\n",
       "      <th>host_name</th>\n",
       "      <th>neighbourhood_group</th>\n",
       "      <th>neighbourhood</th>\n",
       "      <th>latitude</th>\n",
       "      <th>longitude</th>\n",
       "      <th>room_type</th>\n",
       "      <th>price</th>\n",
       "      <th>...</th>\n",
       "      <th>last_review</th>\n",
       "      <th>reviews_per_month</th>\n",
       "      <th>calculated_host_listings_count</th>\n",
       "      <th>availability_365</th>\n",
       "      <th>number_of_reviews_ltm</th>\n",
       "      <th>license</th>\n",
       "      <th>rating</th>\n",
       "      <th>bedrooms</th>\n",
       "      <th>beds</th>\n",
       "      <th>baths</th>\n",
       "    </tr>\n",
       "  </thead>\n",
       "  <tbody>\n",
       "    <tr>\n",
       "      <th>6</th>\n",
       "      <td>4.527754e+07</td>\n",
       "      <td>Rental unit in New York · ★4.67 · 2 bedrooms ·...</td>\n",
       "      <td>51501835</td>\n",
       "      <td>Jeniffer</td>\n",
       "      <td>Manhattan</td>\n",
       "      <td>Hell's Kitchen</td>\n",
       "      <td>40.766610</td>\n",
       "      <td>-73.988100</td>\n",
       "      <td>Entire home/apt</td>\n",
       "      <td>144.0</td>\n",
       "      <td>...</td>\n",
       "      <td>01/05/23</td>\n",
       "      <td>0.24</td>\n",
       "      <td>139.0</td>\n",
       "      <td>364.0</td>\n",
       "      <td>2.0</td>\n",
       "      <td>No License</td>\n",
       "      <td>4.67</td>\n",
       "      <td>2.0</td>\n",
       "      <td>1</td>\n",
       "      <td>1.0</td>\n",
       "    </tr>\n",
       "    <tr>\n",
       "      <th>7</th>\n",
       "      <td>9.710000e+17</td>\n",
       "      <td>Rental unit in New York · ★4.17 · 1 bedroom · ...</td>\n",
       "      <td>528871354</td>\n",
       "      <td>Joshua</td>\n",
       "      <td>Manhattan</td>\n",
       "      <td>Chelsea</td>\n",
       "      <td>40.750764</td>\n",
       "      <td>-73.994605</td>\n",
       "      <td>Entire home/apt</td>\n",
       "      <td>187.0</td>\n",
       "      <td>...</td>\n",
       "      <td>18/12/23</td>\n",
       "      <td>1.67</td>\n",
       "      <td>1.0</td>\n",
       "      <td>343.0</td>\n",
       "      <td>6.0</td>\n",
       "      <td>Exempt</td>\n",
       "      <td>4.17</td>\n",
       "      <td>1.0</td>\n",
       "      <td>2</td>\n",
       "      <td>1.0</td>\n",
       "    </tr>\n",
       "    <tr>\n",
       "      <th>8</th>\n",
       "      <td>3.857863e+06</td>\n",
       "      <td>Rental unit in New York · ★4.64 · 1 bedroom · ...</td>\n",
       "      <td>19902271</td>\n",
       "      <td>John And Catherine</td>\n",
       "      <td>Manhattan</td>\n",
       "      <td>Washington Heights</td>\n",
       "      <td>40.835600</td>\n",
       "      <td>-73.942500</td>\n",
       "      <td>Private room</td>\n",
       "      <td>120.0</td>\n",
       "      <td>...</td>\n",
       "      <td>17/09/23</td>\n",
       "      <td>1.38</td>\n",
       "      <td>2.0</td>\n",
       "      <td>363.0</td>\n",
       "      <td>12.0</td>\n",
       "      <td>No License</td>\n",
       "      <td>4.64</td>\n",
       "      <td>1.0</td>\n",
       "      <td>1</td>\n",
       "      <td>1.0</td>\n",
       "    </tr>\n",
       "    <tr>\n",
       "      <th>9</th>\n",
       "      <td>4.089661e+07</td>\n",
       "      <td>Condo in New York · ★4.91 · Studio · 1 bed · 1...</td>\n",
       "      <td>61391963</td>\n",
       "      <td>Stay With Vibe</td>\n",
       "      <td>Manhattan</td>\n",
       "      <td>Murray Hill</td>\n",
       "      <td>40.751120</td>\n",
       "      <td>-73.978600</td>\n",
       "      <td>Entire home/apt</td>\n",
       "      <td>85.0</td>\n",
       "      <td>...</td>\n",
       "      <td>03/12/23</td>\n",
       "      <td>0.24</td>\n",
       "      <td>133.0</td>\n",
       "      <td>335.0</td>\n",
       "      <td>3.0</td>\n",
       "      <td>No License</td>\n",
       "      <td>4.91</td>\n",
       "      <td>NaN</td>\n",
       "      <td>1</td>\n",
       "      <td>1.0</td>\n",
       "    </tr>\n",
       "    <tr>\n",
       "      <th>10</th>\n",
       "      <td>4.958498e+07</td>\n",
       "      <td>Rental unit in New York · ★5.0 · 1 bedroom · 1...</td>\n",
       "      <td>51501835</td>\n",
       "      <td>Jeniffer</td>\n",
       "      <td>Manhattan</td>\n",
       "      <td>Hell's Kitchen</td>\n",
       "      <td>40.759950</td>\n",
       "      <td>-73.992960</td>\n",
       "      <td>Entire home/apt</td>\n",
       "      <td>115.0</td>\n",
       "      <td>...</td>\n",
       "      <td>29/07/23</td>\n",
       "      <td>0.16</td>\n",
       "      <td>139.0</td>\n",
       "      <td>276.0</td>\n",
       "      <td>2.0</td>\n",
       "      <td>No License</td>\n",
       "      <td>5.00</td>\n",
       "      <td>1.0</td>\n",
       "      <td>1</td>\n",
       "      <td>1.0</td>\n",
       "    </tr>\n",
       "    <tr>\n",
       "      <th>20736</th>\n",
       "      <td>7.990000e+17</td>\n",
       "      <td>Rental unit in New York · 2 bedrooms · 2 beds ...</td>\n",
       "      <td>224733902</td>\n",
       "      <td>CozySuites Copake</td>\n",
       "      <td>Manhattan</td>\n",
       "      <td>Upper East Side</td>\n",
       "      <td>40.768970</td>\n",
       "      <td>-73.957592</td>\n",
       "      <td>Entire home/apt</td>\n",
       "      <td>153.0</td>\n",
       "      <td>...</td>\n",
       "      <td>15/09/23</td>\n",
       "      <td>0.41</td>\n",
       "      <td>8.0</td>\n",
       "      <td>308.0</td>\n",
       "      <td>2.0</td>\n",
       "      <td>No License</td>\n",
       "      <td>NaN</td>\n",
       "      <td>2.0</td>\n",
       "      <td>2</td>\n",
       "      <td>2.0</td>\n",
       "    </tr>\n",
       "    <tr>\n",
       "      <th>20737</th>\n",
       "      <td>5.930000e+17</td>\n",
       "      <td>Rental unit in New York · ★4.79 · 2 bedrooms ·...</td>\n",
       "      <td>23219783</td>\n",
       "      <td>Rob</td>\n",
       "      <td>Manhattan</td>\n",
       "      <td>West Village</td>\n",
       "      <td>40.730220</td>\n",
       "      <td>-74.002910</td>\n",
       "      <td>Entire home/apt</td>\n",
       "      <td>175.0</td>\n",
       "      <td>...</td>\n",
       "      <td>22/11/23</td>\n",
       "      <td>2.03</td>\n",
       "      <td>4.0</td>\n",
       "      <td>129.0</td>\n",
       "      <td>25.0</td>\n",
       "      <td>No License</td>\n",
       "      <td>4.79</td>\n",
       "      <td>2.0</td>\n",
       "      <td>2</td>\n",
       "      <td>1.0</td>\n",
       "    </tr>\n",
       "    <tr>\n",
       "      <th>20738</th>\n",
       "      <td>9.230000e+17</td>\n",
       "      <td>Loft in New York · ★4.33 · 1 bedroom · 2 beds ...</td>\n",
       "      <td>520265731</td>\n",
       "      <td>Rodrigo</td>\n",
       "      <td>Manhattan</td>\n",
       "      <td>Greenwich Village</td>\n",
       "      <td>40.728390</td>\n",
       "      <td>-73.999540</td>\n",
       "      <td>Entire home/apt</td>\n",
       "      <td>156.0</td>\n",
       "      <td>...</td>\n",
       "      <td>02/01/24</td>\n",
       "      <td>2.60</td>\n",
       "      <td>1.0</td>\n",
       "      <td>356.0</td>\n",
       "      <td>9.0</td>\n",
       "      <td>Exempt</td>\n",
       "      <td>4.33</td>\n",
       "      <td>1.0</td>\n",
       "      <td>2</td>\n",
       "      <td>1.0</td>\n",
       "    </tr>\n",
       "    <tr>\n",
       "      <th>20739</th>\n",
       "      <td>1.336161e+07</td>\n",
       "      <td>Rental unit in New York · ★4.89 · 2 bedrooms ·...</td>\n",
       "      <td>8961407</td>\n",
       "      <td>Jamie</td>\n",
       "      <td>Manhattan</td>\n",
       "      <td>Harlem</td>\n",
       "      <td>40.805700</td>\n",
       "      <td>-73.946250</td>\n",
       "      <td>Entire home/apt</td>\n",
       "      <td>397.0</td>\n",
       "      <td>...</td>\n",
       "      <td>08/09/23</td>\n",
       "      <td>1.08</td>\n",
       "      <td>3.0</td>\n",
       "      <td>274.0</td>\n",
       "      <td>3.0</td>\n",
       "      <td>No License</td>\n",
       "      <td>4.89</td>\n",
       "      <td>2.0</td>\n",
       "      <td>2</td>\n",
       "      <td>1.0</td>\n",
       "    </tr>\n",
       "    <tr>\n",
       "      <th>20740</th>\n",
       "      <td>5.119566e+07</td>\n",
       "      <td>Rental unit in New York · Studio · 1 bed · 1 bath</td>\n",
       "      <td>51501835</td>\n",
       "      <td>Jeniffer</td>\n",
       "      <td>Manhattan</td>\n",
       "      <td>Chinatown</td>\n",
       "      <td>40.718360</td>\n",
       "      <td>-73.995850</td>\n",
       "      <td>Entire home/apt</td>\n",
       "      <td>100.0</td>\n",
       "      <td>...</td>\n",
       "      <td>25/05/23</td>\n",
       "      <td>0.08</td>\n",
       "      <td>139.0</td>\n",
       "      <td>306.0</td>\n",
       "      <td>1.0</td>\n",
       "      <td>No License</td>\n",
       "      <td>NaN</td>\n",
       "      <td>NaN</td>\n",
       "      <td>1</td>\n",
       "      <td>1.0</td>\n",
       "    </tr>\n",
       "    <tr>\n",
       "      <th>20741</th>\n",
       "      <td>2.523473e+07</td>\n",
       "      <td>Rental unit in New York · ★4.41 · 1 bedroom · ...</td>\n",
       "      <td>1497427</td>\n",
       "      <td>Mara</td>\n",
       "      <td>Manhattan</td>\n",
       "      <td>Upper East Side</td>\n",
       "      <td>40.774030</td>\n",
       "      <td>-73.950580</td>\n",
       "      <td>Entire home/apt</td>\n",
       "      <td>120.0</td>\n",
       "      <td>...</td>\n",
       "      <td>31/03/23</td>\n",
       "      <td>0.26</td>\n",
       "      <td>2.0</td>\n",
       "      <td>364.0</td>\n",
       "      <td>1.0</td>\n",
       "      <td>No License</td>\n",
       "      <td>4.41</td>\n",
       "      <td>1.0</td>\n",
       "      <td>2</td>\n",
       "      <td>1.0</td>\n",
       "    </tr>\n",
       "    <tr>\n",
       "      <th>20742</th>\n",
       "      <td>3.339399e+06</td>\n",
       "      <td>Rental unit in New York · ★4.73 · 1 bedroom · ...</td>\n",
       "      <td>2119276</td>\n",
       "      <td>Urban Furnished</td>\n",
       "      <td>Manhattan</td>\n",
       "      <td>West Village</td>\n",
       "      <td>40.732030</td>\n",
       "      <td>-74.006760</td>\n",
       "      <td>Entire home/apt</td>\n",
       "      <td>143.0</td>\n",
       "      <td>...</td>\n",
       "      <td>09/05/23</td>\n",
       "      <td>0.20</td>\n",
       "      <td>54.0</td>\n",
       "      <td>285.0</td>\n",
       "      <td>2.0</td>\n",
       "      <td>No License</td>\n",
       "      <td>4.73</td>\n",
       "      <td>1.0</td>\n",
       "      <td>1</td>\n",
       "      <td>1.0</td>\n",
       "    </tr>\n",
       "  </tbody>\n",
       "</table>\n",
       "<p>12 rows × 22 columns</p>\n",
       "</div>"
      ],
      "text/plain": [
       "                 id                                               name  \\\n",
       "6      4.527754e+07  Rental unit in New York · ★4.67 · 2 bedrooms ·...   \n",
       "7      9.710000e+17  Rental unit in New York · ★4.17 · 1 bedroom · ...   \n",
       "8      3.857863e+06  Rental unit in New York · ★4.64 · 1 bedroom · ...   \n",
       "9      4.089661e+07  Condo in New York · ★4.91 · Studio · 1 bed · 1...   \n",
       "10     4.958498e+07  Rental unit in New York · ★5.0 · 1 bedroom · 1...   \n",
       "20736  7.990000e+17  Rental unit in New York · 2 bedrooms · 2 beds ...   \n",
       "20737  5.930000e+17  Rental unit in New York · ★4.79 · 2 bedrooms ·...   \n",
       "20738  9.230000e+17  Loft in New York · ★4.33 · 1 bedroom · 2 beds ...   \n",
       "20739  1.336161e+07  Rental unit in New York · ★4.89 · 2 bedrooms ·...   \n",
       "20740  5.119566e+07  Rental unit in New York · Studio · 1 bed · 1 bath   \n",
       "20741  2.523473e+07  Rental unit in New York · ★4.41 · 1 bedroom · ...   \n",
       "20742  3.339399e+06  Rental unit in New York · ★4.73 · 1 bedroom · ...   \n",
       "\n",
       "         host_id           host_name neighbourhood_group       neighbourhood  \\\n",
       "6       51501835            Jeniffer           Manhattan      Hell's Kitchen   \n",
       "7      528871354              Joshua           Manhattan             Chelsea   \n",
       "8       19902271  John And Catherine           Manhattan  Washington Heights   \n",
       "9       61391963      Stay With Vibe           Manhattan         Murray Hill   \n",
       "10      51501835            Jeniffer           Manhattan      Hell's Kitchen   \n",
       "20736  224733902   CozySuites Copake           Manhattan     Upper East Side   \n",
       "20737   23219783                 Rob           Manhattan        West Village   \n",
       "20738  520265731             Rodrigo           Manhattan   Greenwich Village   \n",
       "20739    8961407               Jamie           Manhattan              Harlem   \n",
       "20740   51501835            Jeniffer           Manhattan           Chinatown   \n",
       "20741    1497427                Mara           Manhattan     Upper East Side   \n",
       "20742    2119276     Urban Furnished           Manhattan        West Village   \n",
       "\n",
       "        latitude  longitude        room_type  price  ...  last_review  \\\n",
       "6      40.766610 -73.988100  Entire home/apt  144.0  ...     01/05/23   \n",
       "7      40.750764 -73.994605  Entire home/apt  187.0  ...     18/12/23   \n",
       "8      40.835600 -73.942500     Private room  120.0  ...     17/09/23   \n",
       "9      40.751120 -73.978600  Entire home/apt   85.0  ...     03/12/23   \n",
       "10     40.759950 -73.992960  Entire home/apt  115.0  ...     29/07/23   \n",
       "20736  40.768970 -73.957592  Entire home/apt  153.0  ...     15/09/23   \n",
       "20737  40.730220 -74.002910  Entire home/apt  175.0  ...     22/11/23   \n",
       "20738  40.728390 -73.999540  Entire home/apt  156.0  ...     02/01/24   \n",
       "20739  40.805700 -73.946250  Entire home/apt  397.0  ...     08/09/23   \n",
       "20740  40.718360 -73.995850  Entire home/apt  100.0  ...     25/05/23   \n",
       "20741  40.774030 -73.950580  Entire home/apt  120.0  ...     31/03/23   \n",
       "20742  40.732030 -74.006760  Entire home/apt  143.0  ...     09/05/23   \n",
       "\n",
       "       reviews_per_month calculated_host_listings_count  availability_365  \\\n",
       "6                   0.24                          139.0             364.0   \n",
       "7                   1.67                            1.0             343.0   \n",
       "8                   1.38                            2.0             363.0   \n",
       "9                   0.24                          133.0             335.0   \n",
       "10                  0.16                          139.0             276.0   \n",
       "20736               0.41                            8.0             308.0   \n",
       "20737               2.03                            4.0             129.0   \n",
       "20738               2.60                            1.0             356.0   \n",
       "20739               1.08                            3.0             274.0   \n",
       "20740               0.08                          139.0             306.0   \n",
       "20741               0.26                            2.0             364.0   \n",
       "20742               0.20                           54.0             285.0   \n",
       "\n",
       "       number_of_reviews_ltm     license  rating bedrooms  beds  baths  \n",
       "6                        2.0  No License    4.67      2.0     1    1.0  \n",
       "7                        6.0      Exempt    4.17      1.0     2    1.0  \n",
       "8                       12.0  No License    4.64      1.0     1    1.0  \n",
       "9                        3.0  No License    4.91      NaN     1    1.0  \n",
       "10                       2.0  No License    5.00      1.0     1    1.0  \n",
       "20736                    2.0  No License     NaN      2.0     2    2.0  \n",
       "20737                   25.0  No License    4.79      2.0     2    1.0  \n",
       "20738                    9.0      Exempt    4.33      1.0     2    1.0  \n",
       "20739                    3.0  No License    4.89      2.0     2    1.0  \n",
       "20740                    1.0  No License     NaN      NaN     1    1.0  \n",
       "20741                    1.0  No License    4.41      1.0     2    1.0  \n",
       "20742                    2.0  No License    4.73      1.0     1    1.0  \n",
       "\n",
       "[12 rows x 22 columns]"
      ]
     },
     "execution_count": 14,
     "metadata": {},
     "output_type": "execute_result"
    }
   ],
   "source": [
    "df[df.duplicated()]"
   ]
  },
  {
   "cell_type": "markdown",
   "id": "33ceca09",
   "metadata": {},
   "source": [
    "COLUMN TYPE SEPARATION"
   ]
  },
  {
   "cell_type": "code",
   "execution_count": 15,
   "id": "e946e4f7",
   "metadata": {},
   "outputs": [
    {
     "data": {
      "text/plain": [
       "Index(['name', 'host_name', 'neighbourhood_group', 'neighbourhood',\n",
       "       'room_type', 'last_review', 'license'],\n",
       "      dtype='object')"
      ]
     },
     "execution_count": 15,
     "metadata": {},
     "output_type": "execute_result"
    }
   ],
   "source": [
    "cat_col=df.select_dtypes(include='object').columns\n",
    "cat_col"
   ]
  },
  {
   "cell_type": "code",
   "execution_count": 16,
   "id": "905a85bd",
   "metadata": {},
   "outputs": [
    {
     "data": {
      "text/plain": [
       "Index(['id', 'host_id', 'latitude', 'longitude', 'price', 'minimum_nights',\n",
       "       'number_of_reviews', 'reviews_per_month',\n",
       "       'calculated_host_listings_count', 'availability_365',\n",
       "       'number_of_reviews_ltm', 'rating', 'bedrooms', 'beds', 'baths'],\n",
       "      dtype='object')"
      ]
     },
     "execution_count": 16,
     "metadata": {},
     "output_type": "execute_result"
    }
   ],
   "source": [
    "numeric_col=df.select_dtypes(exclude='object').columns\n",
    "numeric_col"
   ]
  },
  {
   "cell_type": "code",
   "execution_count": 17,
   "id": "4b5f6abd",
   "metadata": {},
   "outputs": [
    {
     "data": {
      "text/html": [
       "<div>\n",
       "<style scoped>\n",
       "    .dataframe tbody tr th:only-of-type {\n",
       "        vertical-align: middle;\n",
       "    }\n",
       "\n",
       "    .dataframe tbody tr th {\n",
       "        vertical-align: top;\n",
       "    }\n",
       "\n",
       "    .dataframe thead th {\n",
       "        text-align: right;\n",
       "    }\n",
       "</style>\n",
       "<table border=\"1\" class=\"dataframe\">\n",
       "  <thead>\n",
       "    <tr style=\"text-align: right;\">\n",
       "      <th></th>\n",
       "      <th>id</th>\n",
       "      <th>host_id</th>\n",
       "      <th>latitude</th>\n",
       "      <th>longitude</th>\n",
       "      <th>price</th>\n",
       "      <th>minimum_nights</th>\n",
       "      <th>number_of_reviews</th>\n",
       "      <th>reviews_per_month</th>\n",
       "      <th>calculated_host_listings_count</th>\n",
       "      <th>availability_365</th>\n",
       "      <th>number_of_reviews_ltm</th>\n",
       "      <th>rating</th>\n",
       "      <th>bedrooms</th>\n",
       "      <th>beds</th>\n",
       "      <th>baths</th>\n",
       "    </tr>\n",
       "  </thead>\n",
       "  <tbody>\n",
       "    <tr>\n",
       "      <th>count</th>\n",
       "      <td>2.077000e+04</td>\n",
       "      <td>2.077000e+04</td>\n",
       "      <td>20763.000000</td>\n",
       "      <td>20763.000000</td>\n",
       "      <td>20736.000000</td>\n",
       "      <td>20763.000000</td>\n",
       "      <td>20763.000000</td>\n",
       "      <td>20763.000000</td>\n",
       "      <td>20763.000000</td>\n",
       "      <td>20763.000000</td>\n",
       "      <td>20763.000000</td>\n",
       "      <td>17016.000000</td>\n",
       "      <td>18953.000000</td>\n",
       "      <td>20770.000000</td>\n",
       "      <td>20757.000000</td>\n",
       "    </tr>\n",
       "    <tr>\n",
       "      <th>mean</th>\n",
       "      <td>3.033858e+17</td>\n",
       "      <td>1.749049e+08</td>\n",
       "      <td>40.726821</td>\n",
       "      <td>-73.939179</td>\n",
       "      <td>187.714940</td>\n",
       "      <td>28.558493</td>\n",
       "      <td>42.610605</td>\n",
       "      <td>1.257589</td>\n",
       "      <td>18.866686</td>\n",
       "      <td>206.067957</td>\n",
       "      <td>10.848962</td>\n",
       "      <td>4.734206</td>\n",
       "      <td>1.431911</td>\n",
       "      <td>1.723592</td>\n",
       "      <td>1.177940</td>\n",
       "    </tr>\n",
       "    <tr>\n",
       "      <th>std</th>\n",
       "      <td>3.901221e+17</td>\n",
       "      <td>1.725657e+08</td>\n",
       "      <td>0.060293</td>\n",
       "      <td>0.061403</td>\n",
       "      <td>1023.245124</td>\n",
       "      <td>33.532697</td>\n",
       "      <td>73.523401</td>\n",
       "      <td>1.904472</td>\n",
       "      <td>70.921443</td>\n",
       "      <td>135.077259</td>\n",
       "      <td>21.354876</td>\n",
       "      <td>0.294373</td>\n",
       "      <td>0.814935</td>\n",
       "      <td>1.211993</td>\n",
       "      <td>0.480369</td>\n",
       "    </tr>\n",
       "    <tr>\n",
       "      <th>min</th>\n",
       "      <td>2.595000e+03</td>\n",
       "      <td>1.678000e+03</td>\n",
       "      <td>40.500314</td>\n",
       "      <td>-74.249840</td>\n",
       "      <td>10.000000</td>\n",
       "      <td>1.000000</td>\n",
       "      <td>1.000000</td>\n",
       "      <td>0.010000</td>\n",
       "      <td>1.000000</td>\n",
       "      <td>0.000000</td>\n",
       "      <td>0.000000</td>\n",
       "      <td>1.750000</td>\n",
       "      <td>1.000000</td>\n",
       "      <td>1.000000</td>\n",
       "      <td>0.000000</td>\n",
       "    </tr>\n",
       "    <tr>\n",
       "      <th>25%</th>\n",
       "      <td>2.707260e+07</td>\n",
       "      <td>2.041184e+07</td>\n",
       "      <td>40.684159</td>\n",
       "      <td>-73.980755</td>\n",
       "      <td>80.000000</td>\n",
       "      <td>30.000000</td>\n",
       "      <td>4.000000</td>\n",
       "      <td>0.210000</td>\n",
       "      <td>1.000000</td>\n",
       "      <td>87.000000</td>\n",
       "      <td>1.000000</td>\n",
       "      <td>4.640000</td>\n",
       "      <td>1.000000</td>\n",
       "      <td>1.000000</td>\n",
       "      <td>1.000000</td>\n",
       "    </tr>\n",
       "    <tr>\n",
       "      <th>50%</th>\n",
       "      <td>4.992852e+07</td>\n",
       "      <td>1.086990e+08</td>\n",
       "      <td>40.722890</td>\n",
       "      <td>-73.949597</td>\n",
       "      <td>125.000000</td>\n",
       "      <td>30.000000</td>\n",
       "      <td>14.000000</td>\n",
       "      <td>0.650000</td>\n",
       "      <td>2.000000</td>\n",
       "      <td>215.000000</td>\n",
       "      <td>3.000000</td>\n",
       "      <td>4.810000</td>\n",
       "      <td>1.000000</td>\n",
       "      <td>1.000000</td>\n",
       "      <td>1.000000</td>\n",
       "    </tr>\n",
       "    <tr>\n",
       "      <th>75%</th>\n",
       "      <td>7.220000e+17</td>\n",
       "      <td>3.143997e+08</td>\n",
       "      <td>40.763106</td>\n",
       "      <td>-73.917475</td>\n",
       "      <td>199.000000</td>\n",
       "      <td>30.000000</td>\n",
       "      <td>49.000000</td>\n",
       "      <td>1.800000</td>\n",
       "      <td>5.000000</td>\n",
       "      <td>353.000000</td>\n",
       "      <td>15.000000</td>\n",
       "      <td>4.930000</td>\n",
       "      <td>2.000000</td>\n",
       "      <td>2.000000</td>\n",
       "      <td>1.000000</td>\n",
       "    </tr>\n",
       "    <tr>\n",
       "      <th>max</th>\n",
       "      <td>1.050000e+18</td>\n",
       "      <td>5.504035e+08</td>\n",
       "      <td>40.911147</td>\n",
       "      <td>-73.713650</td>\n",
       "      <td>100000.000000</td>\n",
       "      <td>1250.000000</td>\n",
       "      <td>1865.000000</td>\n",
       "      <td>75.490000</td>\n",
       "      <td>713.000000</td>\n",
       "      <td>365.000000</td>\n",
       "      <td>1075.000000</td>\n",
       "      <td>5.000000</td>\n",
       "      <td>15.000000</td>\n",
       "      <td>42.000000</td>\n",
       "      <td>15.500000</td>\n",
       "    </tr>\n",
       "  </tbody>\n",
       "</table>\n",
       "</div>"
      ],
      "text/plain": [
       "                 id       host_id      latitude     longitude          price  \\\n",
       "count  2.077000e+04  2.077000e+04  20763.000000  20763.000000   20736.000000   \n",
       "mean   3.033858e+17  1.749049e+08     40.726821    -73.939179     187.714940   \n",
       "std    3.901221e+17  1.725657e+08      0.060293      0.061403    1023.245124   \n",
       "min    2.595000e+03  1.678000e+03     40.500314    -74.249840      10.000000   \n",
       "25%    2.707260e+07  2.041184e+07     40.684159    -73.980755      80.000000   \n",
       "50%    4.992852e+07  1.086990e+08     40.722890    -73.949597     125.000000   \n",
       "75%    7.220000e+17  3.143997e+08     40.763106    -73.917475     199.000000   \n",
       "max    1.050000e+18  5.504035e+08     40.911147    -73.713650  100000.000000   \n",
       "\n",
       "       minimum_nights  number_of_reviews  reviews_per_month  \\\n",
       "count    20763.000000       20763.000000       20763.000000   \n",
       "mean        28.558493          42.610605           1.257589   \n",
       "std         33.532697          73.523401           1.904472   \n",
       "min          1.000000           1.000000           0.010000   \n",
       "25%         30.000000           4.000000           0.210000   \n",
       "50%         30.000000          14.000000           0.650000   \n",
       "75%         30.000000          49.000000           1.800000   \n",
       "max       1250.000000        1865.000000          75.490000   \n",
       "\n",
       "       calculated_host_listings_count  availability_365  \\\n",
       "count                    20763.000000      20763.000000   \n",
       "mean                        18.866686        206.067957   \n",
       "std                         70.921443        135.077259   \n",
       "min                          1.000000          0.000000   \n",
       "25%                          1.000000         87.000000   \n",
       "50%                          2.000000        215.000000   \n",
       "75%                          5.000000        353.000000   \n",
       "max                        713.000000        365.000000   \n",
       "\n",
       "       number_of_reviews_ltm        rating      bedrooms          beds  \\\n",
       "count           20763.000000  17016.000000  18953.000000  20770.000000   \n",
       "mean               10.848962      4.734206      1.431911      1.723592   \n",
       "std                21.354876      0.294373      0.814935      1.211993   \n",
       "min                 0.000000      1.750000      1.000000      1.000000   \n",
       "25%                 1.000000      4.640000      1.000000      1.000000   \n",
       "50%                 3.000000      4.810000      1.000000      1.000000   \n",
       "75%                15.000000      4.930000      2.000000      2.000000   \n",
       "max              1075.000000      5.000000     15.000000     42.000000   \n",
       "\n",
       "              baths  \n",
       "count  20757.000000  \n",
       "mean       1.177940  \n",
       "std        0.480369  \n",
       "min        0.000000  \n",
       "25%        1.000000  \n",
       "50%        1.000000  \n",
       "75%        1.000000  \n",
       "max       15.500000  "
      ]
     },
     "execution_count": 17,
     "metadata": {},
     "output_type": "execute_result"
    }
   ],
   "source": [
    "df[numeric_col].describe()"
   ]
  },
  {
   "cell_type": "markdown",
   "id": "f6752fe4",
   "metadata": {},
   "source": [
    "DISTRIBUTION ANALYSIS - NUMERIC COLUMNS\n"
   ]
  },
  {
   "cell_type": "code",
   "execution_count": 18,
   "id": "11457d97",
   "metadata": {},
   "outputs": [
    {
     "data": {
      "text/plain": [
       "np.int64(34)"
      ]
     },
     "execution_count": 18,
     "metadata": {},
     "output_type": "execute_result"
    }
   ],
   "source": [
    "df['price'].isnull().sum()"
   ]
  },
  {
   "cell_type": "code",
   "execution_count": 19,
   "id": "c3c4f66f",
   "metadata": {},
   "outputs": [
    {
     "data": {
      "image/png": "[encoded data removed]",
      "text/plain": [
       "<Figure size 500x500 with 1 Axes>"
      ]
     },
     "metadata": {},
     "output_type": "display_data"
    }
   ],
   "source": [
    "sns.displot(df['price'])\n",
    "plt.xlim(0, 100000)\n",
    "\n",
    "plt.show()"
   ]
  },
  {
   "cell_type": "code",
   "execution_count": 20,
   "id": "9838640c",
   "metadata": {},
   "outputs": [
    {
     "data": {
      "text/plain": [
       "np.int64(7)"
      ]
     },
     "execution_count": 20,
     "metadata": {},
     "output_type": "execute_result"
    }
   ],
   "source": [
    "df['minimum_nights'].isnull().sum()"
   ]
  },
  {
   "cell_type": "code",
   "execution_count": 21,
   "id": "fe2b19ac",
   "metadata": {},
   "outputs": [
    {
     "data": {
      "image/png": "[encoded data removed]",
      "text/plain": [
       "<Figure size 500x500 with 1 Axes>"
      ]
     },
     "metadata": {},
     "output_type": "display_data"
    }
   ],
   "source": [
    "sns.displot(df['minimum_nights'])\n",
    "plt.xlim(0, 1250)\n",
    "\n",
    "plt.show()"
   ]
  },
  {
   "cell_type": "code",
   "execution_count": 22,
   "id": "7162ee82",
   "metadata": {},
   "outputs": [
    {
     "data": {
      "text/plain": [
       "np.int64(7)"
      ]
     },
     "execution_count": 22,
     "metadata": {},
     "output_type": "execute_result"
    }
   ],
   "source": [
    "df['reviews_per_month'].isnull().sum()"
   ]
  },
  {
   "cell_type": "code",
   "execution_count": 23,
   "id": "ca315f85",
   "metadata": {},
   "outputs": [
    {
     "data": {
      "image/png": "[encoded data removed]",
      "text/plain": [
       "<Figure size 500x500 with 1 Axes>"
      ]
     },
     "metadata": {},
     "output_type": "display_data"
    }
   ],
   "source": [
    "sns.displot(df['reviews_per_month'])\n",
    "plt.xlim(0, 80)\n",
    "\n",
    "plt.show()"
   ]
  },
  {
   "cell_type": "code",
   "execution_count": 24,
   "id": "ca84c7d4",
   "metadata": {},
   "outputs": [
    {
     "data": {
      "text/plain": [
       "np.int64(7)"
      ]
     },
     "execution_count": 24,
     "metadata": {},
     "output_type": "execute_result"
    }
   ],
   "source": [
    "df['calculated_host_listings_count'].isnull().sum()"
   ]
  },
  {
   "cell_type": "code",
   "execution_count": 25,
   "id": "68a2f97d",
   "metadata": {},
   "outputs": [
    {
     "data": {
      "image/png": "[encoded data removed]",
      "text/plain": [
       "<Figure size 500x500 with 1 Axes>"
      ]
     },
     "metadata": {},
     "output_type": "display_data"
    }
   ],
   "source": [
    "sns.displot(df['calculated_host_listings_count'])\n",
    "plt.xlim(0, 713)\n",
    "\n",
    "plt.show()"
   ]
  },
  {
   "cell_type": "code",
   "execution_count": 26,
   "id": "7a4619c9",
   "metadata": {},
   "outputs": [
    {
     "data": {
      "text/plain": [
       "np.int64(7)"
      ]
     },
     "execution_count": 26,
     "metadata": {},
     "output_type": "execute_result"
    }
   ],
   "source": [
    "df['availability_365'].isnull().sum()"
   ]
  },
  {
   "cell_type": "code",
   "execution_count": 27,
   "id": "4474d675",
   "metadata": {},
   "outputs": [
    {
     "data": {
      "text/plain": [
       "np.int64(7)"
      ]
     },
     "execution_count": 27,
     "metadata": {},
     "output_type": "execute_result"
    }
   ],
   "source": [
    "df['availability_365'].isnull().sum()"
   ]
  },
  {
   "cell_type": "code",
   "execution_count": 28,
   "id": "a0f8e132",
   "metadata": {},
   "outputs": [
    {
     "data": {
      "text/plain": [
       "np.int64(7)"
      ]
     },
     "execution_count": 28,
     "metadata": {},
     "output_type": "execute_result"
    }
   ],
   "source": [
    "df['number_of_reviews_ltm'].isnull().sum()"
   ]
  },
  {
   "cell_type": "code",
   "execution_count": 29,
   "id": "8b9ecaa5",
   "metadata": {},
   "outputs": [
    {
     "data": {
      "image/png": "[encoded data removed]",
      "text/plain": [
       "<Figure size 500x500 with 1 Axes>"
      ]
     },
     "metadata": {},
     "output_type": "display_data"
    }
   ],
   "source": [
    "sns.displot(df['number_of_reviews_ltm'])\n",
    "plt.xlim(0, 1075)\n",
    "\n",
    "plt.show()"
   ]
  },
  {
   "cell_type": "code",
   "execution_count": 30,
   "id": "737883de",
   "metadata": {},
   "outputs": [
    {
     "data": {
      "text/plain": [
       "np.int64(1817)"
      ]
     },
     "execution_count": 30,
     "metadata": {},
     "output_type": "execute_result"
    }
   ],
   "source": [
    "df['bedrooms'].isnull().sum()"
   ]
  },
  {
   "cell_type": "code",
   "execution_count": 31,
   "id": "eb5668f2",
   "metadata": {},
   "outputs": [
    {
     "data": {
      "image/png": "[encoded data removed]",
      "text/plain": [
       "<Figure size 500x500 with 1 Axes>"
      ]
     },
     "metadata": {},
     "output_type": "display_data"
    }
   ],
   "source": [
    "sns.displot(df['bedrooms'])\n",
    "plt.xlim(0, 15)\n",
    "\n",
    "plt.show()"
   ]
  },
  {
   "cell_type": "code",
   "execution_count": 32,
   "id": "8882d53d",
   "metadata": {},
   "outputs": [
    {
     "data": {
      "text/plain": [
       "np.int64(0)"
      ]
     },
     "execution_count": 32,
     "metadata": {},
     "output_type": "execute_result"
    }
   ],
   "source": [
    "df['beds'].isnull().sum()"
   ]
  },
  {
   "cell_type": "code",
   "execution_count": 33,
   "id": "0571cc44",
   "metadata": {},
   "outputs": [
    {
     "data": {
      "image/png": "[encoded data removed]",
      "text/plain": [
       "<Figure size 500x500 with 1 Axes>"
      ]
     },
     "metadata": {},
     "output_type": "display_data"
    }
   ],
   "source": [
    "sns.displot(df['beds'])\n",
    "plt.xlim(0, 42)\n",
    "\n",
    "\n",
    "plt.show()"
   ]
  },
  {
   "cell_type": "code",
   "execution_count": 34,
   "id": "5473b310",
   "metadata": {},
   "outputs": [
    {
     "data": {
      "text/plain": [
       "np.int64(13)"
      ]
     },
     "execution_count": 34,
     "metadata": {},
     "output_type": "execute_result"
    }
   ],
   "source": [
    "df['baths'].isnull().sum()"
   ]
  },
  {
   "cell_type": "code",
   "execution_count": 35,
   "id": "d8a777d1",
   "metadata": {},
   "outputs": [
    {
     "data": {
      "image/png": "[encoded data removed]",
      "text/plain": [
       "<Figure size 500x500 with 1 Axes>"
      ]
     },
     "metadata": {},
     "output_type": "display_data"
    }
   ],
   "source": [
    "sns.displot(df['baths'])\n",
    "plt.xlim(0, 15)\n",
    "\n",
    "\n",
    "plt.show()"
   ]
  },
  {
   "cell_type": "markdown",
   "id": "d44c56f3",
   "metadata": {},
   "source": [
    "CATEGORICAL DATA ANALYSIS"
   ]
  },
  {
   "cell_type": "code",
   "execution_count": 36,
   "id": "9b2f6b5b",
   "metadata": {},
   "outputs": [
    {
     "name": "stdout",
     "output_type": "stream",
     "text": [
      "name has 9836 unique values\n",
      "host_name has 5815 unique values\n",
      "neighbourhood_group has 5 unique values\n",
      "neighbourhood has 221 unique values\n",
      "room_type has 4 unique values\n",
      "last_review has 1878 unique values\n",
      "license has 879 unique values\n"
     ]
    }
   ],
   "source": [
    "#Finding unique values per column\n",
    "for col in cat_col:\n",
    "    unique_cat_values=df[col].nunique()\n",
    "    print(f'{col} has {unique_cat_values} unique values')"
   ]
  },
  {
   "cell_type": "code",
   "execution_count": 37,
   "id": "55dbb788",
   "metadata": {},
   "outputs": [
    {
     "data": {
      "text/plain": [
       "np.int64(0)"
      ]
     },
     "execution_count": 37,
     "metadata": {},
     "output_type": "execute_result"
    }
   ],
   "source": [
    "df['name'].isnull().sum()"
   ]
  },
  {
   "cell_type": "code",
   "execution_count": 38,
   "id": "94c84842",
   "metadata": {},
   "outputs": [
    {
     "data": {
      "image/png": "[encoded data removed]",
      "text/plain": [
       "<Figure size 640x480 with 1 Axes>"
      ]
     },
     "metadata": {},
     "output_type": "display_data"
    }
   ],
   "source": [
    "top_properties = df['name'].value_counts().nlargest(10)\n",
    "\n",
    "sns.barplot(x=top_properties.values, y=top_properties.index)\n",
    "plt.title(\"Top Properties\")\n",
    "plt.xlabel(\"Count\")\n",
    "plt.ylabel(\"Name of properties\")\n",
    "plt.show()\n"
   ]
  },
  {
   "cell_type": "code",
   "execution_count": 39,
   "id": "f88c565b",
   "metadata": {},
   "outputs": [
    {
     "data": {
      "text/plain": [
       "np.int64(0)"
      ]
     },
     "execution_count": 39,
     "metadata": {},
     "output_type": "execute_result"
    }
   ],
   "source": [
    "df['host_name'].isnull().sum()"
   ]
  },
  {
   "cell_type": "code",
   "execution_count": 40,
   "id": "e58b5c0e",
   "metadata": {},
   "outputs": [
    {
     "data": {
      "image/png": "[encoded data removed]",
      "text/plain": [
       "<Figure size 640x480 with 1 Axes>"
      ]
     },
     "metadata": {},
     "output_type": "display_data"
    }
   ],
   "source": [
    "top_hosts = df['host_name'].value_counts().nlargest(10)\n",
    "\n",
    "sns.barplot(x=top_hosts.values, y=top_hosts.index)\n",
    "plt.title(\"Top 10 Hosts\")\n",
    "plt.xlabel(\"Count\")\n",
    "plt.ylabel(\"Name of Hosts\")\n",
    "plt.show()\n"
   ]
  },
  {
   "cell_type": "code",
   "execution_count": 41,
   "id": "eb57e2ed",
   "metadata": {},
   "outputs": [
    {
     "data": {
      "text/plain": [
       "np.int64(0)"
      ]
     },
     "execution_count": 41,
     "metadata": {},
     "output_type": "execute_result"
    }
   ],
   "source": [
    "df['neighbourhood_group'].isnull().sum()"
   ]
  },
  {
   "cell_type": "code",
   "execution_count": 42,
   "id": "4a77a43b",
   "metadata": {},
   "outputs": [
    {
     "data": {
      "image/png": "[encoded data removed]",
      "text/plain": [
       "<Figure size 640x480 with 1 Axes>"
      ]
     },
     "metadata": {},
     "output_type": "display_data"
    }
   ],
   "source": [
    "sns.countplot(data=df, x='neighbourhood_group')\n",
    "plt.title(\"Listings per Neighbourhood Group\")\n",
    "plt.show()\n"
   ]
  },
  {
   "cell_type": "code",
   "execution_count": 43,
   "id": "bf89ea34",
   "metadata": {},
   "outputs": [
    {
     "data": {
      "text/plain": [
       "np.int64(7)"
      ]
     },
     "execution_count": 43,
     "metadata": {},
     "output_type": "execute_result"
    }
   ],
   "source": [
    "df['room_type'].isnull().sum()"
   ]
  },
  {
   "cell_type": "code",
   "execution_count": 44,
   "id": "7cac553a",
   "metadata": {},
   "outputs": [
    {
     "data": {
      "image/png": "[encoded data removed]",
      "text/plain": [
       "<Figure size 640x480 with 1 Axes>"
      ]
     },
     "metadata": {},
     "output_type": "display_data"
    }
   ],
   "source": [
    "sns.countplot(data=df, x='room_type')\n",
    "plt.title(\"Room Type Distribution\")\n",
    "plt.show()\n"
   ]
  },
  {
   "cell_type": "code",
   "execution_count": 45,
   "id": "cb9d732e",
   "metadata": {},
   "outputs": [
    {
     "data": {
      "text/plain": [
       "np.int64(7)"
      ]
     },
     "execution_count": 45,
     "metadata": {},
     "output_type": "execute_result"
    }
   ],
   "source": [
    "df['neighbourhood'].isnull().sum()"
   ]
  },
  {
   "cell_type": "code",
   "execution_count": 46,
   "id": "c9203054",
   "metadata": {},
   "outputs": [
    {
     "data": {
      "image/png": "[encoded data removed]",
      "text/plain": [
       "<Figure size 640x480 with 1 Axes>"
      ]
     },
     "metadata": {},
     "output_type": "display_data"
    }
   ],
   "source": [
    "# Show top 10 neighbourhoods by count\n",
    "top_nbh = df['neighbourhood'].value_counts().nlargest(10)\n",
    "\n",
    "sns.barplot(x=top_nbh.values, y=top_nbh.index)\n",
    "plt.title(\"Top 10 Neighbourhoods by Listing Count\")\n",
    "plt.xlabel(\"Number of Listings\")\n",
    "plt.ylabel(\"Neighbourhood\")\n",
    "plt.show()\n"
   ]
  },
  {
   "cell_type": "code",
   "execution_count": 47,
   "id": "e1cee91c",
   "metadata": {},
   "outputs": [
    {
     "data": {
      "text/plain": [
       "np.int64(0)"
      ]
     },
     "execution_count": 47,
     "metadata": {},
     "output_type": "execute_result"
    }
   ],
   "source": [
    "\n",
    "df['license'].isnull().sum()"
   ]
  },
  {
   "cell_type": "code",
   "execution_count": 48,
   "id": "e9d6bf12",
   "metadata": {},
   "outputs": [
    {
     "data": {
      "text/plain": [
       "license\n",
       "No License            17579\n",
       "Exempt                 2137\n",
       "OSE-STRREG-0000068       14\n",
       "OSE-STRREG-0008664        6\n",
       "OSE-STRREG-0000437        6\n",
       "                      ...  \n",
       "OSE-STRREG-0000005        1\n",
       "OSE-STRREG-0000445        1\n",
       "OSE-STRREG-0001081        1\n",
       "OSE-STRREG-0000600        1\n",
       "OSE-STRREG-0000942        1\n",
       "Name: count, Length: 879, dtype: int64"
      ]
     },
     "execution_count": 48,
     "metadata": {},
     "output_type": "execute_result"
    }
   ],
   "source": [
    "df['license'].value_counts()"
   ]
  },
  {
   "cell_type": "code",
   "execution_count": 49,
   "id": "9c0ba2f5",
   "metadata": {},
   "outputs": [
    {
     "data": {
      "text/plain": [
       "np.int64(3754)"
      ]
     },
     "execution_count": 49,
     "metadata": {},
     "output_type": "execute_result"
    }
   ],
   "source": [
    "df['rating'].isnull().sum()"
   ]
  },
  {
   "cell_type": "code",
   "execution_count": 50,
   "id": "280655f7",
   "metadata": {},
   "outputs": [
    {
     "data": {
      "text/plain": [
       "rating\n",
       "5.00    2883\n",
       "4.67     518\n",
       "4.75     469\n",
       "4.80     439\n",
       "4.83     426\n",
       "        ... \n",
       "3.58       1\n",
       "3.77       1\n",
       "3.65       1\n",
       "3.87       1\n",
       "2.75       1\n",
       "Name: count, Length: 160, dtype: int64"
      ]
     },
     "execution_count": 50,
     "metadata": {},
     "output_type": "execute_result"
    }
   ],
   "source": [
    "df['rating'].value_counts()"
   ]
  },
  {
   "cell_type": "code",
   "execution_count": 51,
   "id": "a5214215",
   "metadata": {},
   "outputs": [
    {
     "data": {
      "image/png": "[encoded data removed]",
      "text/plain": [
       "<Figure size 640x480 with 1 Axes>"
      ]
     },
     "metadata": {},
     "output_type": "display_data"
    }
   ],
   "source": [
    "# Show top 10 neighbourhoods by count\n",
    "top_rating = df['rating'].value_counts().nlargest(10)\n",
    "\n",
    "sns.barplot(x=top_rating.values, y=top_rating.index)\n",
    "plt.title(\"Top 10 Ratings\")\n",
    "plt.xlabel(\"Count\")\n",
    "plt.ylabel(\"Ratings\")\n",
    "plt.show()\n"
   ]
  },
  {
   "cell_type": "markdown",
   "id": "52e90947",
   "metadata": {},
   "source": [
    "NULL VALUE HANDLING PREPARATION\n"
   ]
  },
  {
   "cell_type": "code",
   "execution_count": 52,
   "id": "dda2dbae",
   "metadata": {},
   "outputs": [
    {
     "data": {
      "text/plain": [
       "15"
      ]
     },
     "execution_count": 52,
     "metadata": {},
     "output_type": "execute_result"
    }
   ],
   "source": [
    "null_cols_names.nunique()"
   ]
  },
  {
   "cell_type": "code",
   "execution_count": 53,
   "id": "557a8866",
   "metadata": {},
   "outputs": [],
   "source": [
    "num_null_cols= [i  for i in null_cols_names if i in numeric_col]"
   ]
  },
  {
   "cell_type": "code",
   "execution_count": 54,
   "id": "20d9310d",
   "metadata": {},
   "outputs": [
    {
     "data": {
      "text/plain": [
       "['latitude',\n",
       " 'longitude',\n",
       " 'price',\n",
       " 'minimum_nights',\n",
       " 'number_of_reviews',\n",
       " 'reviews_per_month',\n",
       " 'calculated_host_listings_count',\n",
       " 'availability_365',\n",
       " 'number_of_reviews_ltm',\n",
       " 'rating',\n",
       " 'bedrooms',\n",
       " 'baths']"
      ]
     },
     "execution_count": 54,
     "metadata": {},
     "output_type": "execute_result"
    }
   ],
   "source": [
    "num_null_cols"
   ]
  },
  {
   "cell_type": "code",
   "execution_count": 55,
   "id": "bf7915b3",
   "metadata": {},
   "outputs": [],
   "source": [
    "cat_null_cols= [i  for i in null_cols_names if i in cat_col]"
   ]
  },
  {
   "cell_type": "code",
   "execution_count": 56,
   "id": "0fdf09c0",
   "metadata": {},
   "outputs": [
    {
     "data": {
      "text/plain": [
       "['neighbourhood', 'room_type', 'last_review']"
      ]
     },
     "execution_count": 56,
     "metadata": {},
     "output_type": "execute_result"
    }
   ],
   "source": [
    "cat_null_cols"
   ]
  },
  {
   "cell_type": "markdown",
   "id": "5ea79a0f",
   "metadata": {},
   "source": [
    "NULL VALUE IMPUTATION"
   ]
  },
  {
   "cell_type": "code",
   "execution_count": 57,
   "id": "ed187982",
   "metadata": {},
   "outputs": [],
   "source": [
    "for col in num_null_cols:\n",
    "    df[col] = df[col].apply(lambda x: x[0] if isinstance(x, (list, np.ndarray)) else x)\n",
    "    df[col] = pd.to_numeric(df[col], errors='coerce')\n",
    "    df[col] = df[col].fillna(df[col].median())\n"
   ]
  },
  {
   "cell_type": "code",
   "execution_count": 58,
   "id": "426d1cc3",
   "metadata": {},
   "outputs": [],
   "source": [
    "for col in num_null_cols:\n",
    "    df[col] = df[col].fillna(df[col].median())"
   ]
  },
  {
   "cell_type": "code",
   "execution_count": 59,
   "id": "e86001cd",
   "metadata": {},
   "outputs": [],
   "source": [
    "for col in cat_null_cols:\n",
    "    mode_val = df[col].mode()[0]\n",
    "    df[col] = df[col].fillna(mode_val)"
   ]
  },
  {
   "cell_type": "code",
   "execution_count": 60,
   "id": "7620d698",
   "metadata": {},
   "outputs": [
    {
     "data": {
      "text/plain": [
       "id                                0\n",
       "name                              0\n",
       "host_id                           0\n",
       "host_name                         0\n",
       "neighbourhood_group               0\n",
       "neighbourhood                     0\n",
       "latitude                          0\n",
       "longitude                         0\n",
       "room_type                         0\n",
       "price                             0\n",
       "minimum_nights                    0\n",
       "number_of_reviews                 0\n",
       "last_review                       0\n",
       "reviews_per_month                 0\n",
       "calculated_host_listings_count    0\n",
       "availability_365                  0\n",
       "number_of_reviews_ltm             0\n",
       "license                           0\n",
       "rating                            0\n",
       "bedrooms                          0\n",
       "beds                              0\n",
       "baths                             0\n",
       "dtype: int64"
      ]
     },
     "execution_count": 60,
     "metadata": {},
     "output_type": "execute_result"
    }
   ],
   "source": [
    "df.isnull().sum()"
   ]
  },
  {
   "cell_type": "markdown",
   "id": "c788a128",
   "metadata": {},
   "source": [
    "OUTLIER DETECTION AND VISUALIZATION\n"
   ]
  },
  {
   "cell_type": "code",
   "execution_count": 61,
   "id": "399a16e8",
   "metadata": {},
   "outputs": [
    {
     "data": {
      "text/plain": [
       "Index(['id', 'host_id', 'latitude', 'longitude', 'price', 'minimum_nights',\n",
       "       'number_of_reviews', 'reviews_per_month',\n",
       "       'calculated_host_listings_count', 'availability_365',\n",
       "       'number_of_reviews_ltm', 'rating', 'bedrooms', 'beds', 'baths'],\n",
       "      dtype='object')"
      ]
     },
     "execution_count": 61,
     "metadata": {},
     "output_type": "execute_result"
    }
   ],
   "source": [
    "numeric_col"
   ]
  },
  {
   "cell_type": "code",
   "execution_count": 62,
   "id": "50a1cf3d",
   "metadata": {},
   "outputs": [
    {
     "data": {
      "image/png": "[encoded data removed]",
      "text/plain": [
       "<Figure size 800x400 with 1 Axes>"
      ]
     },
     "metadata": {},
     "output_type": "display_data"
    },
    {
     "data": {
      "image/png": "[encoded data removed]",
      "text/plain": [
       "<Figure size 800x400 with 1 Axes>"
      ]
     },
     "metadata": {},
     "output_type": "display_data"
    },
    {
     "data": {
      "image/png": "[encoded data removed]",
      "text/plain": [
       "<Figure size 800x400 with 1 Axes>"
      ]
     },
     "metadata": {},
     "output_type": "display_data"
    },
    {
     "data": {
      "image/png": "[encoded data removed]",
      "text/plain": [
       "<Figure size 800x400 with 1 Axes>"
      ]
     },
     "metadata": {},
     "output_type": "display_data"
    },
    {
     "data": {
      "image/png": "[encoded data removed]",
      "text/plain": [
       "<Figure size 800x400 with 1 Axes>"
      ]
     },
     "metadata": {},
     "output_type": "display_data"
    },
    {
     "data": {
      "image/png": "[encoded data removed]",
      "text/plain": [
       "<Figure size 800x400 with 1 Axes>"
      ]
     },
     "metadata": {},
     "output_type": "display_data"
    },
    {
     "data": {
      "image/png": "[encoded data removed]",
      "text/plain": [
       "<Figure size 800x400 with 1 Axes>"
      ]
     },
     "metadata": {},
     "output_type": "display_data"
    },
    {
     "data": {
      "image/png": "[encoded data removed]",
      "text/plain": [
       "<Figure size 800x400 with 1 Axes>"
      ]
     },
     "metadata": {},
     "output_type": "display_data"
    },
    {
     "data": {
      "image/png": "[encoded data removed]",
      "text/plain": [
       "<Figure size 800x400 with 1 Axes>"
      ]
     },
     "metadata": {},
     "output_type": "display_data"
    },
    {
     "data": {
      "image/png": "[encoded data removed]",
      "text/plain": [
       "<Figure size 800x400 with 1 Axes>"
      ]
     },
     "metadata": {},
     "output_type": "display_data"
    },
    {
     "data": {
      "image/png": "[encoded data removed]",
      "text/plain": [
       "<Figure size 800x400 with 1 Axes>"
      ]
     },
     "metadata": {},
     "output_type": "display_data"
    }
   ],
   "source": [
    "for col in numeric_col:\n",
    "    if col not in ['id', 'host_id', 'latitude', 'longitude']:\n",
    "        plt.figure(figsize=(8, 4))\n",
    "        sns.boxplot(x=df[col])\n",
    "        plt.title(f'Boxplot of {col}')\n",
    "        plt.xlabel(col)\n",
    "        plt.show()\n"
   ]
  },
  {
   "cell_type": "code",
   "execution_count": 63,
   "id": "b52412fd",
   "metadata": {},
   "outputs": [
    {
     "name": "stdout",
     "output_type": "stream",
     "text": [
      "id                                  0\n",
      "host_id                             0\n",
      "latitude                           20\n",
      "longitude                         392\n",
      "price                              24\n",
      "minimum_nights                    117\n",
      "number_of_reviews                 399\n",
      "reviews_per_month                 160\n",
      "calculated_host_listings_count    557\n",
      "availability_365                    0\n",
      "number_of_reviews_ltm             150\n",
      "rating                            379\n",
      "bedrooms                          508\n",
      "beds                              321\n",
      "baths                             325\n",
      "dtype: int64\n"
     ]
    }
   ],
   "source": [
    "from scipy.stats import zscore\n",
    "\n",
    "numeric_cols = df.select_dtypes(include=['int64', 'float64']).columns\n",
    "\n",
    "z_scores = df[numeric_cols].apply(zscore)\n",
    "\n",
    "threshold = 3\n",
    "\n",
    "outliers = (z_scores.abs() > threshold)\n",
    "\n",
    "print(outliers.sum())\n"
   ]
  },
  {
   "cell_type": "code",
   "execution_count": 66,
   "id": "95e2d42d",
   "metadata": {},
   "outputs": [
    {
     "data": {
      "text/html": [
       "<div>\n",
       "<style scoped>\n",
       "    .dataframe tbody tr th:only-of-type {\n",
       "        vertical-align: middle;\n",
       "    }\n",
       "\n",
       "    .dataframe tbody tr th {\n",
       "        vertical-align: top;\n",
       "    }\n",
       "\n",
       "    .dataframe thead th {\n",
       "        text-align: right;\n",
       "    }\n",
       "</style>\n",
       "<table border=\"1\" class=\"dataframe\">\n",
       "  <thead>\n",
       "    <tr style=\"text-align: right;\">\n",
       "      <th></th>\n",
       "      <th>id</th>\n",
       "      <th>name</th>\n",
       "      <th>host_id</th>\n",
       "      <th>host_name</th>\n",
       "      <th>neighbourhood_group</th>\n",
       "      <th>neighbourhood</th>\n",
       "      <th>latitude</th>\n",
       "      <th>longitude</th>\n",
       "      <th>room_type</th>\n",
       "      <th>price</th>\n",
       "      <th>...</th>\n",
       "      <th>last_review</th>\n",
       "      <th>reviews_per_month</th>\n",
       "      <th>calculated_host_listings_count</th>\n",
       "      <th>availability_365</th>\n",
       "      <th>number_of_reviews_ltm</th>\n",
       "      <th>license</th>\n",
       "      <th>rating</th>\n",
       "      <th>bedrooms</th>\n",
       "      <th>beds</th>\n",
       "      <th>baths</th>\n",
       "    </tr>\n",
       "  </thead>\n",
       "  <tbody>\n",
       "    <tr>\n",
       "      <th>0</th>\n",
       "      <td>1312228.0</td>\n",
       "      <td>Rental unit in Brooklyn · ★5.0 · 1 bedroom</td>\n",
       "      <td>7130382</td>\n",
       "      <td>Walter</td>\n",
       "      <td>Brooklyn</td>\n",
       "      <td>Clinton Hill</td>\n",
       "      <td>40.68371</td>\n",
       "      <td>-73.96461</td>\n",
       "      <td>Private room</td>\n",
       "      <td>55.0</td>\n",
       "      <td>...</td>\n",
       "      <td>20/12/15</td>\n",
       "      <td>0.03</td>\n",
       "      <td>1.0</td>\n",
       "      <td>0.0</td>\n",
       "      <td>0.0</td>\n",
       "      <td>No License</td>\n",
       "      <td>5.00</td>\n",
       "      <td>1.0</td>\n",
       "      <td>1</td>\n",
       "      <td>1.0</td>\n",
       "    </tr>\n",
       "    <tr>\n",
       "      <th>1</th>\n",
       "      <td>45277537.0</td>\n",
       "      <td>Rental unit in New York · ★4.67 · 2 bedrooms ·...</td>\n",
       "      <td>51501835</td>\n",
       "      <td>Jeniffer</td>\n",
       "      <td>Manhattan</td>\n",
       "      <td>Hell's Kitchen</td>\n",
       "      <td>40.76661</td>\n",
       "      <td>-73.98810</td>\n",
       "      <td>Entire home/apt</td>\n",
       "      <td>144.0</td>\n",
       "      <td>...</td>\n",
       "      <td>01/05/23</td>\n",
       "      <td>0.24</td>\n",
       "      <td>139.0</td>\n",
       "      <td>364.0</td>\n",
       "      <td>2.0</td>\n",
       "      <td>No License</td>\n",
       "      <td>4.67</td>\n",
       "      <td>2.0</td>\n",
       "      <td>1</td>\n",
       "      <td>1.0</td>\n",
       "    </tr>\n",
       "  </tbody>\n",
       "</table>\n",
       "<p>2 rows × 22 columns</p>\n",
       "</div>"
      ],
      "text/plain": [
       "           id                                               name   host_id  \\\n",
       "0   1312228.0         Rental unit in Brooklyn · ★5.0 · 1 bedroom   7130382   \n",
       "1  45277537.0  Rental unit in New York · ★4.67 · 2 bedrooms ·...  51501835   \n",
       "\n",
       "  host_name neighbourhood_group   neighbourhood  latitude  longitude  \\\n",
       "0    Walter            Brooklyn    Clinton Hill  40.68371  -73.96461   \n",
       "1  Jeniffer           Manhattan  Hell's Kitchen  40.76661  -73.98810   \n",
       "\n",
       "         room_type  price  ...  last_review  reviews_per_month  \\\n",
       "0     Private room   55.0  ...     20/12/15               0.03   \n",
       "1  Entire home/apt  144.0  ...     01/05/23               0.24   \n",
       "\n",
       "  calculated_host_listings_count  availability_365  number_of_reviews_ltm  \\\n",
       "0                            1.0               0.0                    0.0   \n",
       "1                          139.0             364.0                    2.0   \n",
       "\n",
       "      license  rating bedrooms  beds  baths  \n",
       "0  No License    5.00      1.0     1    1.0  \n",
       "1  No License    4.67      2.0     1    1.0  \n",
       "\n",
       "[2 rows x 22 columns]"
      ]
     },
     "execution_count": 66,
     "metadata": {},
     "output_type": "execute_result"
    }
   ],
   "source": [
    "df.head(2)"
   ]
  },
  {
   "cell_type": "markdown",
   "id": "e278923b",
   "metadata": {},
   "source": [
    "DATA PREPARATION FOR ENCODING"
   ]
  },
  {
   "cell_type": "code",
   "execution_count": 67,
   "id": "e35754ad",
   "metadata": {},
   "outputs": [
    {
     "data": {
      "text/plain": [
       "Index(['name', 'host_name', 'neighbourhood_group', 'neighbourhood',\n",
       "       'room_type', 'last_review', 'license'],\n",
       "      dtype='object')"
      ]
     },
     "execution_count": 67,
     "metadata": {},
     "output_type": "execute_result"
    }
   ],
   "source": [
    "cat_col"
   ]
  },
  {
   "cell_type": "code",
   "execution_count": 68,
   "id": "32d12003",
   "metadata": {},
   "outputs": [
    {
     "data": {
      "text/plain": [
       "array(['Brooklyn', 'Manhattan', 'Queens', 'Bronx', 'Staten Island'],\n",
       "      dtype=object)"
      ]
     },
     "execution_count": 68,
     "metadata": {},
     "output_type": "execute_result"
    }
   ],
   "source": [
    "df.neighbourhood_group.unique()"
   ]
  },
  {
   "cell_type": "code",
   "execution_count": 69,
   "id": "fad02a4e",
   "metadata": {},
   "outputs": [
    {
     "data": {
      "text/plain": [
       "array(['Private room', 'Entire home/apt', 'Hotel room', 'Shared room'],\n",
       "      dtype=object)"
      ]
     },
     "execution_count": 69,
     "metadata": {},
     "output_type": "execute_result"
    }
   ],
   "source": [
    "df.room_type.unique()"
   ]
  },
  {
   "cell_type": "markdown",
   "id": "0f87f677",
   "metadata": {},
   "source": [
    "ONE-HOT ENCODING"
   ]
  },
  {
   "cell_type": "code",
   "execution_count": 82,
   "id": "3af7edb7",
   "metadata": {},
   "outputs": [],
   "source": [
    "from sklearn.preprocessing import OneHotEncoder\n",
    "\n",
    "categorical_cols = ['neighbourhood_group', 'room_type']\n",
    "\n",
    "encoder = OneHotEncoder(drop='first', sparse_output=False) \n",
    "\n",
    "encoded_df = encoder.fit_transform(df[categorical_cols])\n",
    "\n",
    "new_encoded_df = pd.DataFrame(encoded_df, columns=encoder.get_feature_names_out(categorical_cols))\n",
    "\n",
    "data_encoded = df.drop(columns=categorical_cols)\n",
    "\n",
    "new_encoded_bnb_data= pd.concat([data_encoded, new_encoded_df], axis=1)"
   ]
  },
  {
   "cell_type": "code",
   "execution_count": 83,
   "id": "744f6e23",
   "metadata": {},
   "outputs": [
    {
     "data": {
      "text/html": [
       "<div>\n",
       "<style scoped>\n",
       "    .dataframe tbody tr th:only-of-type {\n",
       "        vertical-align: middle;\n",
       "    }\n",
       "\n",
       "    .dataframe tbody tr th {\n",
       "        vertical-align: top;\n",
       "    }\n",
       "\n",
       "    .dataframe thead th {\n",
       "        text-align: right;\n",
       "    }\n",
       "</style>\n",
       "<table border=\"1\" class=\"dataframe\">\n",
       "  <thead>\n",
       "    <tr style=\"text-align: right;\">\n",
       "      <th></th>\n",
       "      <th>id</th>\n",
       "      <th>name</th>\n",
       "      <th>host_id</th>\n",
       "      <th>host_name</th>\n",
       "      <th>neighbourhood</th>\n",
       "      <th>latitude</th>\n",
       "      <th>longitude</th>\n",
       "      <th>price</th>\n",
       "      <th>minimum_nights</th>\n",
       "      <th>number_of_reviews</th>\n",
       "      <th>...</th>\n",
       "      <th>bedrooms</th>\n",
       "      <th>beds</th>\n",
       "      <th>baths</th>\n",
       "      <th>neighbourhood_group_Brooklyn</th>\n",
       "      <th>neighbourhood_group_Manhattan</th>\n",
       "      <th>neighbourhood_group_Queens</th>\n",
       "      <th>neighbourhood_group_Staten Island</th>\n",
       "      <th>room_type_Hotel room</th>\n",
       "      <th>room_type_Private room</th>\n",
       "      <th>room_type_Shared room</th>\n",
       "    </tr>\n",
       "  </thead>\n",
       "  <tbody>\n",
       "    <tr>\n",
       "      <th>0</th>\n",
       "      <td>1.312228e+06</td>\n",
       "      <td>Rental unit in Brooklyn · ★5.0 · 1 bedroom</td>\n",
       "      <td>7130382</td>\n",
       "      <td>Walter</td>\n",
       "      <td>Clinton Hill</td>\n",
       "      <td>40.683710</td>\n",
       "      <td>-73.964610</td>\n",
       "      <td>55.0</td>\n",
       "      <td>30.0</td>\n",
       "      <td>3.0</td>\n",
       "      <td>...</td>\n",
       "      <td>1.0</td>\n",
       "      <td>1</td>\n",
       "      <td>1.0</td>\n",
       "      <td>1.0</td>\n",
       "      <td>0.0</td>\n",
       "      <td>0.0</td>\n",
       "      <td>0.0</td>\n",
       "      <td>0.0</td>\n",
       "      <td>1.0</td>\n",
       "      <td>0.0</td>\n",
       "    </tr>\n",
       "    <tr>\n",
       "      <th>1</th>\n",
       "      <td>4.527754e+07</td>\n",
       "      <td>Rental unit in New York · ★4.67 · 2 bedrooms ·...</td>\n",
       "      <td>51501835</td>\n",
       "      <td>Jeniffer</td>\n",
       "      <td>Hell's Kitchen</td>\n",
       "      <td>40.766610</td>\n",
       "      <td>-73.988100</td>\n",
       "      <td>144.0</td>\n",
       "      <td>30.0</td>\n",
       "      <td>9.0</td>\n",
       "      <td>...</td>\n",
       "      <td>2.0</td>\n",
       "      <td>1</td>\n",
       "      <td>1.0</td>\n",
       "      <td>0.0</td>\n",
       "      <td>1.0</td>\n",
       "      <td>0.0</td>\n",
       "      <td>0.0</td>\n",
       "      <td>0.0</td>\n",
       "      <td>0.0</td>\n",
       "      <td>0.0</td>\n",
       "    </tr>\n",
       "    <tr>\n",
       "      <th>2</th>\n",
       "      <td>9.710000e+17</td>\n",
       "      <td>Rental unit in New York · ★4.17 · 1 bedroom · ...</td>\n",
       "      <td>528871354</td>\n",
       "      <td>Joshua</td>\n",
       "      <td>Chelsea</td>\n",
       "      <td>40.750764</td>\n",
       "      <td>-73.994605</td>\n",
       "      <td>187.0</td>\n",
       "      <td>2.0</td>\n",
       "      <td>6.0</td>\n",
       "      <td>...</td>\n",
       "      <td>1.0</td>\n",
       "      <td>2</td>\n",
       "      <td>1.0</td>\n",
       "      <td>0.0</td>\n",
       "      <td>1.0</td>\n",
       "      <td>0.0</td>\n",
       "      <td>0.0</td>\n",
       "      <td>0.0</td>\n",
       "      <td>0.0</td>\n",
       "      <td>0.0</td>\n",
       "    </tr>\n",
       "    <tr>\n",
       "      <th>3</th>\n",
       "      <td>3.857863e+06</td>\n",
       "      <td>Rental unit in New York · ★4.64 · 1 bedroom · ...</td>\n",
       "      <td>19902271</td>\n",
       "      <td>John And Catherine</td>\n",
       "      <td>Washington Heights</td>\n",
       "      <td>40.835600</td>\n",
       "      <td>-73.942500</td>\n",
       "      <td>120.0</td>\n",
       "      <td>30.0</td>\n",
       "      <td>156.0</td>\n",
       "      <td>...</td>\n",
       "      <td>1.0</td>\n",
       "      <td>1</td>\n",
       "      <td>1.0</td>\n",
       "      <td>0.0</td>\n",
       "      <td>1.0</td>\n",
       "      <td>0.0</td>\n",
       "      <td>0.0</td>\n",
       "      <td>0.0</td>\n",
       "      <td>1.0</td>\n",
       "      <td>0.0</td>\n",
       "    </tr>\n",
       "    <tr>\n",
       "      <th>4</th>\n",
       "      <td>4.089661e+07</td>\n",
       "      <td>Condo in New York · ★4.91 · Studio · 1 bed · 1...</td>\n",
       "      <td>61391963</td>\n",
       "      <td>Stay With Vibe</td>\n",
       "      <td>Murray Hill</td>\n",
       "      <td>40.751120</td>\n",
       "      <td>-73.978600</td>\n",
       "      <td>85.0</td>\n",
       "      <td>30.0</td>\n",
       "      <td>11.0</td>\n",
       "      <td>...</td>\n",
       "      <td>1.0</td>\n",
       "      <td>1</td>\n",
       "      <td>1.0</td>\n",
       "      <td>0.0</td>\n",
       "      <td>1.0</td>\n",
       "      <td>0.0</td>\n",
       "      <td>0.0</td>\n",
       "      <td>0.0</td>\n",
       "      <td>0.0</td>\n",
       "      <td>0.0</td>\n",
       "    </tr>\n",
       "    <tr>\n",
       "      <th>...</th>\n",
       "      <td>...</td>\n",
       "      <td>...</td>\n",
       "      <td>...</td>\n",
       "      <td>...</td>\n",
       "      <td>...</td>\n",
       "      <td>...</td>\n",
       "      <td>...</td>\n",
       "      <td>...</td>\n",
       "      <td>...</td>\n",
       "      <td>...</td>\n",
       "      <td>...</td>\n",
       "      <td>...</td>\n",
       "      <td>...</td>\n",
       "      <td>...</td>\n",
       "      <td>...</td>\n",
       "      <td>...</td>\n",
       "      <td>...</td>\n",
       "      <td>...</td>\n",
       "      <td>...</td>\n",
       "      <td>...</td>\n",
       "      <td>...</td>\n",
       "    </tr>\n",
       "    <tr>\n",
       "      <th>20765</th>\n",
       "      <td>2.473690e+07</td>\n",
       "      <td>Rental unit in New York · ★4.75 · 1 bedroom · ...</td>\n",
       "      <td>186680487</td>\n",
       "      <td>Henry D</td>\n",
       "      <td>Lower East Side</td>\n",
       "      <td>40.711380</td>\n",
       "      <td>-73.991560</td>\n",
       "      <td>45.0</td>\n",
       "      <td>30.0</td>\n",
       "      <td>124.0</td>\n",
       "      <td>...</td>\n",
       "      <td>1.0</td>\n",
       "      <td>1</td>\n",
       "      <td>1.0</td>\n",
       "      <td>0.0</td>\n",
       "      <td>1.0</td>\n",
       "      <td>0.0</td>\n",
       "      <td>0.0</td>\n",
       "      <td>0.0</td>\n",
       "      <td>1.0</td>\n",
       "      <td>0.0</td>\n",
       "    </tr>\n",
       "    <tr>\n",
       "      <th>20766</th>\n",
       "      <td>2.835711e+06</td>\n",
       "      <td>Rental unit in New York · ★4.46 · 1 bedroom · ...</td>\n",
       "      <td>3237504</td>\n",
       "      <td>Aspen</td>\n",
       "      <td>Greenwich Village</td>\n",
       "      <td>40.730580</td>\n",
       "      <td>-74.000700</td>\n",
       "      <td>105.0</td>\n",
       "      <td>30.0</td>\n",
       "      <td>56.0</td>\n",
       "      <td>...</td>\n",
       "      <td>1.0</td>\n",
       "      <td>2</td>\n",
       "      <td>1.0</td>\n",
       "      <td>0.0</td>\n",
       "      <td>1.0</td>\n",
       "      <td>0.0</td>\n",
       "      <td>0.0</td>\n",
       "      <td>0.0</td>\n",
       "      <td>0.0</td>\n",
       "      <td>0.0</td>\n",
       "    </tr>\n",
       "    <tr>\n",
       "      <th>20767</th>\n",
       "      <td>5.182527e+07</td>\n",
       "      <td>Rental unit in New York · ★4.93 · 1 bedroom · ...</td>\n",
       "      <td>304317395</td>\n",
       "      <td>Jeff</td>\n",
       "      <td>Hell's Kitchen</td>\n",
       "      <td>40.757350</td>\n",
       "      <td>-73.993430</td>\n",
       "      <td>299.0</td>\n",
       "      <td>30.0</td>\n",
       "      <td>60.0</td>\n",
       "      <td>...</td>\n",
       "      <td>1.0</td>\n",
       "      <td>1</td>\n",
       "      <td>1.0</td>\n",
       "      <td>0.0</td>\n",
       "      <td>1.0</td>\n",
       "      <td>0.0</td>\n",
       "      <td>0.0</td>\n",
       "      <td>0.0</td>\n",
       "      <td>0.0</td>\n",
       "      <td>0.0</td>\n",
       "    </tr>\n",
       "    <tr>\n",
       "      <th>20768</th>\n",
       "      <td>7.830000e+17</td>\n",
       "      <td>Rental unit in New York · ★5.0 · 1 bedroom · 1...</td>\n",
       "      <td>163083101</td>\n",
       "      <td>Marissa</td>\n",
       "      <td>Chinatown</td>\n",
       "      <td>40.713750</td>\n",
       "      <td>-73.991470</td>\n",
       "      <td>115.0</td>\n",
       "      <td>30.0</td>\n",
       "      <td>7.0</td>\n",
       "      <td>...</td>\n",
       "      <td>1.0</td>\n",
       "      <td>1</td>\n",
       "      <td>1.0</td>\n",
       "      <td>0.0</td>\n",
       "      <td>1.0</td>\n",
       "      <td>0.0</td>\n",
       "      <td>0.0</td>\n",
       "      <td>0.0</td>\n",
       "      <td>0.0</td>\n",
       "      <td>0.0</td>\n",
       "    </tr>\n",
       "    <tr>\n",
       "      <th>20769</th>\n",
       "      <td>5.660000e+17</td>\n",
       "      <td>Rental unit in Queens · ★4.89 · 1 bedroom · 1 ...</td>\n",
       "      <td>93827372</td>\n",
       "      <td>Glenroy</td>\n",
       "      <td>Rosedale</td>\n",
       "      <td>40.658874</td>\n",
       "      <td>-73.728651</td>\n",
       "      <td>102.0</td>\n",
       "      <td>1.0</td>\n",
       "      <td>63.0</td>\n",
       "      <td>...</td>\n",
       "      <td>1.0</td>\n",
       "      <td>1</td>\n",
       "      <td>1.0</td>\n",
       "      <td>0.0</td>\n",
       "      <td>0.0</td>\n",
       "      <td>1.0</td>\n",
       "      <td>0.0</td>\n",
       "      <td>0.0</td>\n",
       "      <td>1.0</td>\n",
       "      <td>0.0</td>\n",
       "    </tr>\n",
       "  </tbody>\n",
       "</table>\n",
       "<p>20770 rows × 27 columns</p>\n",
       "</div>"
      ],
      "text/plain": [
       "                 id                                               name  \\\n",
       "0      1.312228e+06         Rental unit in Brooklyn · ★5.0 · 1 bedroom   \n",
       "1      4.527754e+07  Rental unit in New York · ★4.67 · 2 bedrooms ·...   \n",
       "2      9.710000e+17  Rental unit in New York · ★4.17 · 1 bedroom · ...   \n",
       "3      3.857863e+06  Rental unit in New York · ★4.64 · 1 bedroom · ...   \n",
       "4      4.089661e+07  Condo in New York · ★4.91 · Studio · 1 bed · 1...   \n",
       "...             ...                                                ...   \n",
       "20765  2.473690e+07  Rental unit in New York · ★4.75 · 1 bedroom · ...   \n",
       "20766  2.835711e+06  Rental unit in New York · ★4.46 · 1 bedroom · ...   \n",
       "20767  5.182527e+07  Rental unit in New York · ★4.93 · 1 bedroom · ...   \n",
       "20768  7.830000e+17  Rental unit in New York · ★5.0 · 1 bedroom · 1...   \n",
       "20769  5.660000e+17  Rental unit in Queens · ★4.89 · 1 bedroom · 1 ...   \n",
       "\n",
       "         host_id           host_name       neighbourhood   latitude  \\\n",
       "0        7130382              Walter        Clinton Hill  40.683710   \n",
       "1       51501835            Jeniffer      Hell's Kitchen  40.766610   \n",
       "2      528871354              Joshua             Chelsea  40.750764   \n",
       "3       19902271  John And Catherine  Washington Heights  40.835600   \n",
       "4       61391963      Stay With Vibe         Murray Hill  40.751120   \n",
       "...          ...                 ...                 ...        ...   \n",
       "20765  186680487             Henry D     Lower East Side  40.711380   \n",
       "20766    3237504               Aspen   Greenwich Village  40.730580   \n",
       "20767  304317395                Jeff      Hell's Kitchen  40.757350   \n",
       "20768  163083101             Marissa           Chinatown  40.713750   \n",
       "20769   93827372             Glenroy            Rosedale  40.658874   \n",
       "\n",
       "       longitude  price  minimum_nights  number_of_reviews  ... bedrooms  \\\n",
       "0     -73.964610   55.0            30.0                3.0  ...      1.0   \n",
       "1     -73.988100  144.0            30.0                9.0  ...      2.0   \n",
       "2     -73.994605  187.0             2.0                6.0  ...      1.0   \n",
       "3     -73.942500  120.0            30.0              156.0  ...      1.0   \n",
       "4     -73.978600   85.0            30.0               11.0  ...      1.0   \n",
       "...          ...    ...             ...                ...  ...      ...   \n",
       "20765 -73.991560   45.0            30.0              124.0  ...      1.0   \n",
       "20766 -74.000700  105.0            30.0               56.0  ...      1.0   \n",
       "20767 -73.993430  299.0            30.0               60.0  ...      1.0   \n",
       "20768 -73.991470  115.0            30.0                7.0  ...      1.0   \n",
       "20769 -73.728651  102.0             1.0               63.0  ...      1.0   \n",
       "\n",
       "       beds  baths  neighbourhood_group_Brooklyn  \\\n",
       "0         1    1.0                           1.0   \n",
       "1         1    1.0                           0.0   \n",
       "2         2    1.0                           0.0   \n",
       "3         1    1.0                           0.0   \n",
       "4         1    1.0                           0.0   \n",
       "...     ...    ...                           ...   \n",
       "20765     1    1.0                           0.0   \n",
       "20766     2    1.0                           0.0   \n",
       "20767     1    1.0                           0.0   \n",
       "20768     1    1.0                           0.0   \n",
       "20769     1    1.0                           0.0   \n",
       "\n",
       "       neighbourhood_group_Manhattan neighbourhood_group_Queens  \\\n",
       "0                                0.0                        0.0   \n",
       "1                                1.0                        0.0   \n",
       "2                                1.0                        0.0   \n",
       "3                                1.0                        0.0   \n",
       "4                                1.0                        0.0   \n",
       "...                              ...                        ...   \n",
       "20765                            1.0                        0.0   \n",
       "20766                            1.0                        0.0   \n",
       "20767                            1.0                        0.0   \n",
       "20768                            1.0                        0.0   \n",
       "20769                            0.0                        1.0   \n",
       "\n",
       "       neighbourhood_group_Staten Island  room_type_Hotel room  \\\n",
       "0                                    0.0                   0.0   \n",
       "1                                    0.0                   0.0   \n",
       "2                                    0.0                   0.0   \n",
       "3                                    0.0                   0.0   \n",
       "4                                    0.0                   0.0   \n",
       "...                                  ...                   ...   \n",
       "20765                                0.0                   0.0   \n",
       "20766                                0.0                   0.0   \n",
       "20767                                0.0                   0.0   \n",
       "20768                                0.0                   0.0   \n",
       "20769                                0.0                   0.0   \n",
       "\n",
       "       room_type_Private room  room_type_Shared room  \n",
       "0                         1.0                    0.0  \n",
       "1                         0.0                    0.0  \n",
       "2                         0.0                    0.0  \n",
       "3                         1.0                    0.0  \n",
       "4                         0.0                    0.0  \n",
       "...                       ...                    ...  \n",
       "20765                     1.0                    0.0  \n",
       "20766                     0.0                    0.0  \n",
       "20767                     0.0                    0.0  \n",
       "20768                     0.0                    0.0  \n",
       "20769                     1.0                    0.0  \n",
       "\n",
       "[20770 rows x 27 columns]"
      ]
     },
     "execution_count": 83,
     "metadata": {},
     "output_type": "execute_result"
    }
   ],
   "source": [
    "new_encoded_bnb_data"
   ]
  },
  {
   "cell_type": "markdown",
   "id": "3df68223",
   "metadata": {},
   "source": [
    "SCALING THE NUMERICAL COLUMNS\n"
   ]
  },
  {
   "cell_type": "code",
   "execution_count": 98,
   "id": "e67de6e6",
   "metadata": {},
   "outputs": [],
   "source": [
    "to_be_scaled=[i for i in numeric_col if i not in ['id','host_id','latitude','longitude']]"
   ]
  },
  {
   "cell_type": "code",
   "execution_count": 100,
   "id": "e7a5697a",
   "metadata": {},
   "outputs": [],
   "source": [
    "from sklearn.preprocessing import StandardScaler\n",
    "\n",
    "scaler = StandardScaler()\n",
    "new_encoded_bnb_data[to_be_scaled] = scaler.fit_transform(new_encoded_bnb_data[to_be_scaled])\n"
   ]
  },
  {
   "cell_type": "code",
   "execution_count": 102,
   "id": "013c83ed",
   "metadata": {},
   "outputs": [
    {
     "data": {
      "text/html": [
       "<div>\n",
       "<style scoped>\n",
       "    .dataframe tbody tr th:only-of-type {\n",
       "        vertical-align: middle;\n",
       "    }\n",
       "\n",
       "    .dataframe tbody tr th {\n",
       "        vertical-align: top;\n",
       "    }\n",
       "\n",
       "    .dataframe thead th {\n",
       "        text-align: right;\n",
       "    }\n",
       "</style>\n",
       "<table border=\"1\" class=\"dataframe\">\n",
       "  <thead>\n",
       "    <tr style=\"text-align: right;\">\n",
       "      <th></th>\n",
       "      <th>id</th>\n",
       "      <th>name</th>\n",
       "      <th>host_id</th>\n",
       "      <th>host_name</th>\n",
       "      <th>neighbourhood</th>\n",
       "      <th>latitude</th>\n",
       "      <th>longitude</th>\n",
       "      <th>price</th>\n",
       "      <th>minimum_nights</th>\n",
       "      <th>number_of_reviews</th>\n",
       "      <th>...</th>\n",
       "      <th>room_type_Shared room</th>\n",
       "      <th>review_year</th>\n",
       "      <th>review_month</th>\n",
       "      <th>review_day</th>\n",
       "      <th>review_dayofweek</th>\n",
       "      <th>price_category</th>\n",
       "      <th>title_word_count</th>\n",
       "      <th>bedroom_category</th>\n",
       "      <th>is_luxury</th>\n",
       "      <th>rating_category</th>\n",
       "    </tr>\n",
       "  </thead>\n",
       "  <tbody>\n",
       "    <tr>\n",
       "      <th>0</th>\n",
       "      <td>1.312228e+06</td>\n",
       "      <td>Rental unit in Brooklyn · ★5.0 · 1 bedroom</td>\n",
       "      <td>7130382</td>\n",
       "      <td>Walter</td>\n",
       "      <td>Clinton Hill</td>\n",
       "      <td>40.683710</td>\n",
       "      <td>-73.964610</td>\n",
       "      <td>-0.129709</td>\n",
       "      <td>0.042982</td>\n",
       "      <td>-0.538707</td>\n",
       "      <td>...</td>\n",
       "      <td>0.0</td>\n",
       "      <td>2015</td>\n",
       "      <td>12</td>\n",
       "      <td>20</td>\n",
       "      <td>6</td>\n",
       "      <td>Economy</td>\n",
       "      <td>9</td>\n",
       "      <td>One_BR</td>\n",
       "      <td>0</td>\n",
       "      <td>Excellent</td>\n",
       "    </tr>\n",
       "    <tr>\n",
       "      <th>1</th>\n",
       "      <td>4.527754e+07</td>\n",
       "      <td>Rental unit in New York · ★4.67 · 2 bedrooms ·...</td>\n",
       "      <td>51501835</td>\n",
       "      <td>Jeniffer</td>\n",
       "      <td>Hell's Kitchen</td>\n",
       "      <td>40.766610</td>\n",
       "      <td>-73.988100</td>\n",
       "      <td>-0.042657</td>\n",
       "      <td>0.042982</td>\n",
       "      <td>-0.457087</td>\n",
       "      <td>...</td>\n",
       "      <td>0.0</td>\n",
       "      <td>2023</td>\n",
       "      <td>1</td>\n",
       "      <td>5</td>\n",
       "      <td>3</td>\n",
       "      <td>Standard</td>\n",
       "      <td>16</td>\n",
       "      <td>Two_BR</td>\n",
       "      <td>0</td>\n",
       "      <td>Excellent</td>\n",
       "    </tr>\n",
       "    <tr>\n",
       "      <th>2</th>\n",
       "      <td>9.710000e+17</td>\n",
       "      <td>Rental unit in New York · ★4.17 · 1 bedroom · ...</td>\n",
       "      <td>528871354</td>\n",
       "      <td>Joshua</td>\n",
       "      <td>Chelsea</td>\n",
       "      <td>40.750764</td>\n",
       "      <td>-73.994605</td>\n",
       "      <td>-0.000599</td>\n",
       "      <td>-0.792185</td>\n",
       "      <td>-0.497897</td>\n",
       "      <td>...</td>\n",
       "      <td>0.0</td>\n",
       "      <td>2023</td>\n",
       "      <td>12</td>\n",
       "      <td>18</td>\n",
       "      <td>0</td>\n",
       "      <td>Standard</td>\n",
       "      <td>16</td>\n",
       "      <td>One_BR</td>\n",
       "      <td>0</td>\n",
       "      <td>Very_Good</td>\n",
       "    </tr>\n",
       "    <tr>\n",
       "      <th>3</th>\n",
       "      <td>3.857863e+06</td>\n",
       "      <td>Rental unit in New York · ★4.64 · 1 bedroom · ...</td>\n",
       "      <td>19902271</td>\n",
       "      <td>John And Catherine</td>\n",
       "      <td>Washington Heights</td>\n",
       "      <td>40.835600</td>\n",
       "      <td>-73.942500</td>\n",
       "      <td>-0.066132</td>\n",
       "      <td>0.042982</td>\n",
       "      <td>1.542611</td>\n",
       "      <td>...</td>\n",
       "      <td>0.0</td>\n",
       "      <td>2023</td>\n",
       "      <td>9</td>\n",
       "      <td>17</td>\n",
       "      <td>6</td>\n",
       "      <td>Standard</td>\n",
       "      <td>14</td>\n",
       "      <td>One_BR</td>\n",
       "      <td>0</td>\n",
       "      <td>Excellent</td>\n",
       "    </tr>\n",
       "    <tr>\n",
       "      <th>4</th>\n",
       "      <td>4.089661e+07</td>\n",
       "      <td>Condo in New York · ★4.91 · Studio · 1 bed · 1...</td>\n",
       "      <td>61391963</td>\n",
       "      <td>Stay With Vibe</td>\n",
       "      <td>Murray Hill</td>\n",
       "      <td>40.751120</td>\n",
       "      <td>-73.978600</td>\n",
       "      <td>-0.100366</td>\n",
       "      <td>0.042982</td>\n",
       "      <td>-0.429880</td>\n",
       "      <td>...</td>\n",
       "      <td>0.0</td>\n",
       "      <td>2023</td>\n",
       "      <td>3</td>\n",
       "      <td>12</td>\n",
       "      <td>6</td>\n",
       "      <td>Economy</td>\n",
       "      <td>14</td>\n",
       "      <td>One_BR</td>\n",
       "      <td>0</td>\n",
       "      <td>Excellent</td>\n",
       "    </tr>\n",
       "  </tbody>\n",
       "</table>\n",
       "<p>5 rows × 36 columns</p>\n",
       "</div>"
      ],
      "text/plain": [
       "             id                                               name    host_id  \\\n",
       "0  1.312228e+06         Rental unit in Brooklyn · ★5.0 · 1 bedroom    7130382   \n",
       "1  4.527754e+07  Rental unit in New York · ★4.67 · 2 bedrooms ·...   51501835   \n",
       "2  9.710000e+17  Rental unit in New York · ★4.17 · 1 bedroom · ...  528871354   \n",
       "3  3.857863e+06  Rental unit in New York · ★4.64 · 1 bedroom · ...   19902271   \n",
       "4  4.089661e+07  Condo in New York · ★4.91 · Studio · 1 bed · 1...   61391963   \n",
       "\n",
       "            host_name       neighbourhood   latitude  longitude     price  \\\n",
       "0              Walter        Clinton Hill  40.683710 -73.964610 -0.129709   \n",
       "1            Jeniffer      Hell's Kitchen  40.766610 -73.988100 -0.042657   \n",
       "2              Joshua             Chelsea  40.750764 -73.994605 -0.000599   \n",
       "3  John And Catherine  Washington Heights  40.835600 -73.942500 -0.066132   \n",
       "4      Stay With Vibe         Murray Hill  40.751120 -73.978600 -0.100366   \n",
       "\n",
       "   minimum_nights  number_of_reviews  ... room_type_Shared room  review_year  \\\n",
       "0        0.042982          -0.538707  ...                   0.0         2015   \n",
       "1        0.042982          -0.457087  ...                   0.0         2023   \n",
       "2       -0.792185          -0.497897  ...                   0.0         2023   \n",
       "3        0.042982           1.542611  ...                   0.0         2023   \n",
       "4        0.042982          -0.429880  ...                   0.0         2023   \n",
       "\n",
       "   review_month  review_day  review_dayofweek price_category  \\\n",
       "0            12          20                 6        Economy   \n",
       "1             1           5                 3       Standard   \n",
       "2            12          18                 0       Standard   \n",
       "3             9          17                 6       Standard   \n",
       "4             3          12                 6        Economy   \n",
       "\n",
       "   title_word_count  bedroom_category  is_luxury  rating_category  \n",
       "0                 9            One_BR          0        Excellent  \n",
       "1                16            Two_BR          0        Excellent  \n",
       "2                16            One_BR          0        Very_Good  \n",
       "3                14            One_BR          0        Excellent  \n",
       "4                14            One_BR          0        Excellent  \n",
       "\n",
       "[5 rows x 36 columns]"
      ]
     },
     "execution_count": 102,
     "metadata": {},
     "output_type": "execute_result"
    }
   ],
   "source": [
    "new_encoded_bnb_data.head()"
   ]
  },
  {
   "cell_type": "markdown",
   "id": "28cb2319",
   "metadata": {},
   "source": [
    "FEATURE ENGINEERING"
   ]
  },
  {
   "cell_type": "markdown",
   "id": "b54e4bd6",
   "metadata": {},
   "source": [
    "DATE FEATURE EXTRACTION"
   ]
  },
  {
   "cell_type": "code",
   "execution_count": 85,
   "id": "737db988",
   "metadata": {},
   "outputs": [
    {
     "name": "stderr",
     "output_type": "stream",
     "text": [
      "C:\\Users\\Jesilda\\AppData\\Local\\Temp\\ipykernel_13232\\2534621179.py:2: UserWarning: Could not infer format, so each element will be parsed individually, falling back to `dateutil`. To ensure parsing is consistent and as-expected, please specify a format.\n",
      "  new_encoded_bnb_data['last_review'] = pd.to_datetime(new_encoded_bnb_data['last_review'], errors='coerce')\n"
     ]
    }
   ],
   "source": [
    "if 'last_review' in new_encoded_bnb_data.columns:\n",
    "    new_encoded_bnb_data['last_review'] = pd.to_datetime(new_encoded_bnb_data['last_review'], errors='coerce')\n",
    "\n",
    "    # Now safely extract date components\n",
    "    new_encoded_bnb_data['review_year'] = new_encoded_bnb_data['last_review'].dt.year\n",
    "    new_encoded_bnb_data['review_month'] = new_encoded_bnb_data['last_review'].dt.month\n",
    "    new_encoded_bnb_data['review_day'] = new_encoded_bnb_data['last_review'].dt.day\n",
    "    new_encoded_bnb_data['review_dayofweek'] = new_encoded_bnb_data['last_review'].dt.dayofweek"
   ]
  },
  {
   "cell_type": "markdown",
   "id": "a84062e8",
   "metadata": {},
   "source": [
    "PRICE CATEGORIZATION"
   ]
  },
  {
   "cell_type": "code",
   "execution_count": 86,
   "id": "0526e2d0",
   "metadata": {},
   "outputs": [],
   "source": [
    "new_encoded_bnb_data['price_category'] = pd.cut(new_encoded_bnb_data['price'], \n",
    "                                        bins=[0, 50, 100, 200, 500, float('inf')],\n",
    "                                        labels=['Budget', 'Economy', 'Standard', 'Premium', 'Luxury'])\n",
    "        "
   ]
  },
  {
   "cell_type": "markdown",
   "id": "ac2e0f3f",
   "metadata": {},
   "source": [
    "TEXT FEATURE ENGINEERING"
   ]
  },
  {
   "cell_type": "code",
   "execution_count": 87,
   "id": "68085bf8",
   "metadata": {},
   "outputs": [],
   "source": [
    "new_encoded_bnb_data['title_word_count'] = new_encoded_bnb_data['name'].fillna(\"\").str.split().apply(len)\n"
   ]
  },
  {
   "cell_type": "markdown",
   "id": "c24f7528",
   "metadata": {},
   "source": [
    "BEDROOM CATEGORIZATION"
   ]
  },
  {
   "cell_type": "code",
   "execution_count": 88,
   "id": "3ace2571",
   "metadata": {},
   "outputs": [],
   "source": [
    "new_encoded_bnb_data['bedroom_category'] = pd.cut(new_encoded_bnb_data['bedrooms'],\n",
    "                                          bins=[-1, 0, 1, 2, 4, float('inf')],\n",
    "                                          labels=['Studio', 'One_BR', 'Two_BR', 'Multi_BR', 'Large_Property'])\n",
    "        "
   ]
  },
  {
   "cell_type": "markdown",
   "id": "29439e7e",
   "metadata": {},
   "source": [
    "LUXURY PROPERTY DETECTION"
   ]
  },
  {
   "cell_type": "code",
   "execution_count": 89,
   "id": "9259ec3e",
   "metadata": {},
   "outputs": [],
   "source": [
    "luxury_keywords = ['luxury', 'deluxe', 'premium', 'executive', 'suite', 'penthouse']\n",
    "new_encoded_bnb_data['is_luxury'] = new_encoded_bnb_data['name'].fillna('').str.lower().str.contains('|'.join(luxury_keywords)).astype(int)\n",
    "            "
   ]
  },
  {
   "cell_type": "markdown",
   "id": "75e33929",
   "metadata": {},
   "source": [
    "RATING CATEGORIZATION"
   ]
  },
  {
   "cell_type": "code",
   "execution_count": 90,
   "id": "e830c0ba",
   "metadata": {},
   "outputs": [
    {
     "data": {
      "text/plain": [
       "160"
      ]
     },
     "execution_count": 90,
     "metadata": {},
     "output_type": "execute_result"
    }
   ],
   "source": [
    "new_encoded_bnb_data.rating.nunique()"
   ]
  },
  {
   "cell_type": "code",
   "execution_count": 91,
   "id": "84757f34",
   "metadata": {},
   "outputs": [],
   "source": [
    "new_encoded_bnb_data['rating_category'] = pd.cut(\n",
    "    new_encoded_bnb_data['rating'],\n",
    "    bins=[0, 3, 4, 4.5, 5],\n",
    "    labels=['Poor', 'Good', 'Very_Good', 'Excellent'])"
   ]
  },
  {
   "cell_type": "code",
   "execution_count": 92,
   "id": "60405057",
   "metadata": {},
   "outputs": [
    {
     "data": {
      "text/html": [
       "<div>\n",
       "<style scoped>\n",
       "    .dataframe tbody tr th:only-of-type {\n",
       "        vertical-align: middle;\n",
       "    }\n",
       "\n",
       "    .dataframe tbody tr th {\n",
       "        vertical-align: top;\n",
       "    }\n",
       "\n",
       "    .dataframe thead th {\n",
       "        text-align: right;\n",
       "    }\n",
       "</style>\n",
       "<table border=\"1\" class=\"dataframe\">\n",
       "  <thead>\n",
       "    <tr style=\"text-align: right;\">\n",
       "      <th></th>\n",
       "      <th>id</th>\n",
       "      <th>name</th>\n",
       "      <th>host_id</th>\n",
       "      <th>host_name</th>\n",
       "      <th>neighbourhood</th>\n",
       "      <th>latitude</th>\n",
       "      <th>longitude</th>\n",
       "      <th>price</th>\n",
       "      <th>minimum_nights</th>\n",
       "      <th>number_of_reviews</th>\n",
       "      <th>...</th>\n",
       "      <th>room_type_Shared room</th>\n",
       "      <th>review_year</th>\n",
       "      <th>review_month</th>\n",
       "      <th>review_day</th>\n",
       "      <th>review_dayofweek</th>\n",
       "      <th>price_category</th>\n",
       "      <th>title_word_count</th>\n",
       "      <th>bedroom_category</th>\n",
       "      <th>is_luxury</th>\n",
       "      <th>rating_category</th>\n",
       "    </tr>\n",
       "  </thead>\n",
       "  <tbody>\n",
       "    <tr>\n",
       "      <th>0</th>\n",
       "      <td>1.312228e+06</td>\n",
       "      <td>Rental unit in Brooklyn · ★5.0 · 1 bedroom</td>\n",
       "      <td>7130382</td>\n",
       "      <td>Walter</td>\n",
       "      <td>Clinton Hill</td>\n",
       "      <td>40.683710</td>\n",
       "      <td>-73.964610</td>\n",
       "      <td>55.0</td>\n",
       "      <td>30.0</td>\n",
       "      <td>3.0</td>\n",
       "      <td>...</td>\n",
       "      <td>0.0</td>\n",
       "      <td>2015</td>\n",
       "      <td>12</td>\n",
       "      <td>20</td>\n",
       "      <td>6</td>\n",
       "      <td>Economy</td>\n",
       "      <td>9</td>\n",
       "      <td>One_BR</td>\n",
       "      <td>0</td>\n",
       "      <td>Excellent</td>\n",
       "    </tr>\n",
       "    <tr>\n",
       "      <th>1</th>\n",
       "      <td>4.527754e+07</td>\n",
       "      <td>Rental unit in New York · ★4.67 · 2 bedrooms ·...</td>\n",
       "      <td>51501835</td>\n",
       "      <td>Jeniffer</td>\n",
       "      <td>Hell's Kitchen</td>\n",
       "      <td>40.766610</td>\n",
       "      <td>-73.988100</td>\n",
       "      <td>144.0</td>\n",
       "      <td>30.0</td>\n",
       "      <td>9.0</td>\n",
       "      <td>...</td>\n",
       "      <td>0.0</td>\n",
       "      <td>2023</td>\n",
       "      <td>1</td>\n",
       "      <td>5</td>\n",
       "      <td>3</td>\n",
       "      <td>Standard</td>\n",
       "      <td>16</td>\n",
       "      <td>Two_BR</td>\n",
       "      <td>0</td>\n",
       "      <td>Excellent</td>\n",
       "    </tr>\n",
       "    <tr>\n",
       "      <th>2</th>\n",
       "      <td>9.710000e+17</td>\n",
       "      <td>Rental unit in New York · ★4.17 · 1 bedroom · ...</td>\n",
       "      <td>528871354</td>\n",
       "      <td>Joshua</td>\n",
       "      <td>Chelsea</td>\n",
       "      <td>40.750764</td>\n",
       "      <td>-73.994605</td>\n",
       "      <td>187.0</td>\n",
       "      <td>2.0</td>\n",
       "      <td>6.0</td>\n",
       "      <td>...</td>\n",
       "      <td>0.0</td>\n",
       "      <td>2023</td>\n",
       "      <td>12</td>\n",
       "      <td>18</td>\n",
       "      <td>0</td>\n",
       "      <td>Standard</td>\n",
       "      <td>16</td>\n",
       "      <td>One_BR</td>\n",
       "      <td>0</td>\n",
       "      <td>Very_Good</td>\n",
       "    </tr>\n",
       "  </tbody>\n",
       "</table>\n",
       "<p>3 rows × 36 columns</p>\n",
       "</div>"
      ],
      "text/plain": [
       "             id                                               name    host_id  \\\n",
       "0  1.312228e+06         Rental unit in Brooklyn · ★5.0 · 1 bedroom    7130382   \n",
       "1  4.527754e+07  Rental unit in New York · ★4.67 · 2 bedrooms ·...   51501835   \n",
       "2  9.710000e+17  Rental unit in New York · ★4.17 · 1 bedroom · ...  528871354   \n",
       "\n",
       "  host_name   neighbourhood   latitude  longitude  price  minimum_nights  \\\n",
       "0    Walter    Clinton Hill  40.683710 -73.964610   55.0            30.0   \n",
       "1  Jeniffer  Hell's Kitchen  40.766610 -73.988100  144.0            30.0   \n",
       "2    Joshua         Chelsea  40.750764 -73.994605  187.0             2.0   \n",
       "\n",
       "   number_of_reviews  ... room_type_Shared room  review_year  review_month  \\\n",
       "0                3.0  ...                   0.0         2015            12   \n",
       "1                9.0  ...                   0.0         2023             1   \n",
       "2                6.0  ...                   0.0         2023            12   \n",
       "\n",
       "   review_day  review_dayofweek price_category  title_word_count  \\\n",
       "0          20                 6        Economy                 9   \n",
       "1           5                 3       Standard                16   \n",
       "2          18                 0       Standard                16   \n",
       "\n",
       "   bedroom_category  is_luxury  rating_category  \n",
       "0            One_BR          0        Excellent  \n",
       "1            Two_BR          0        Excellent  \n",
       "2            One_BR          0        Very_Good  \n",
       "\n",
       "[3 rows x 36 columns]"
      ]
     },
     "execution_count": 92,
     "metadata": {},
     "output_type": "execute_result"
    }
   ],
   "source": [
    "new_encoded_bnb_data.head(3)"
   ]
  },
  {
   "cell_type": "code",
   "execution_count": 94,
   "id": "843729b1",
   "metadata": {},
   "outputs": [
    {
     "name": "stdout",
     "output_type": "stream",
     "text": [
      "Final dataset dimensions: (20770, 36)\n",
      "Total features created: 14 new features\n"
     ]
    }
   ],
   "source": [
    "print(f\"Final dataset dimensions: {new_encoded_bnb_data.shape}\")\n",
    "print(f\"Total features created: {new_encoded_bnb_data.shape[1] - df.shape[1]} new features\")\n"
   ]
  },
  {
   "cell_type": "markdown",
   "id": "769f3dfe",
   "metadata": {},
   "source": [
    "THIS IS THE FINAL CLEANED DATASET"
   ]
  }
 ],
 "metadata": {
  "kernelspec": {
   "display_name": "ml_env",
   "language": "python",
   "name": "python3"
  },
  "language_info": {
   "codemirror_mode": {
    "name": "ipython",
    "version": 3
   },
   "file_extension": ".py",
   "mimetype": "text/x-python",
   "name": "python",
   "nbconvert_exporter": "python",
   "pygments_lexer": "ipython3",
   "version": "3.10.11"
  }
 },
 "nbformat": 4,
 "nbformat_minor": 5
}
